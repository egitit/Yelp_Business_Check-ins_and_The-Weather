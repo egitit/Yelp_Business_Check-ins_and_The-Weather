{
 "cells": [
  {
   "cell_type": "markdown",
   "metadata": {},
   "source": [
    "### Web Scraper to generate hisotrical weather data"
   ]
  },
  {
   "cell_type": "code",
   "execution_count": 1,
   "metadata": {},
   "outputs": [],
   "source": [
    "import requests"
   ]
  },
  {
   "cell_type": "code",
   "execution_count": 2,
   "metadata": {},
   "outputs": [],
   "source": [
    "import pprint"
   ]
  },
  {
   "cell_type": "code",
   "execution_count": 3,
   "metadata": {},
   "outputs": [],
   "source": [
    "from pymongo import MongoClient"
   ]
  },
  {
   "cell_type": "code",
   "execution_count": 4,
   "metadata": {},
   "outputs": [],
   "source": [
    "import json"
   ]
  },
  {
   "cell_type": "code",
   "execution_count": 5,
   "metadata": {},
   "outputs": [],
   "source": [
    "import time"
   ]
  },
  {
   "cell_type": "code",
   "execution_count": 6,
   "metadata": {},
   "outputs": [],
   "source": [
    "from bs4 import BeautifulSoup"
   ]
  },
  {
   "cell_type": "markdown",
   "metadata": {},
   "source": [
    "First, clean up my data in order to identify which dates to scrape weather on"
   ]
  },
  {
   "cell_type": "markdown",
   "metadata": {},
   "source": [
    "Pulling historic weather data from Pheonix, AZ & Las Vegas, NV"
   ]
  },
  {
   "cell_type": "markdown",
   "metadata": {},
   "source": [
    "key items:\n",
    "\n",
    "date\n",
    "<div _ngcontent-app-root-c6=\"\" class=\"date ng-star-inserted\">1</div>\n",
    "\n",
    "Weather description for the day\n",
    "class = <div _ngcontent-app-root-c6=\"\" class=\"phrase ng-star-inserted\">mostly sunny</div>\n",
    "\n",
    "Hi\n",
    "<span _ngcontent-app-root-c6=\"\" class=\"hi\">80°</span>\n",
    "\n",
    "Low\n",
    "<span _ngcontent-app-root-c6=\"\" class=\"low\">61°</span>\n",
    "\n",
    "Rain (in inches)\n",
    "<span _ngcontent-app-root-c12=\"\" class=\"wu-value wu-value-to\">0.21</span>\n",
    "\n",
    "FOCUS HERE\n",
    "Phoenix, AZ\n",
    "https://www.wunderground.com/calendar/us/az/phoenix/KPHX/date/2015-4 \n",
    "- date will be the changing variable\n"
   ]
  },
  {
   "cell_type": "code",
   "execution_count": 8,
   "metadata": {},
   "outputs": [],
   "source": [
    "r = requests.get('https://www.wunderground.com/calendar/us/az/phoenix/KPHX/date/2015-4')"
   ]
  },
  {
   "cell_type": "code",
   "execution_count": 9,
   "metadata": {},
   "outputs": [
    {
     "data": {
      "text/plain": [
       "requests.models.Response"
      ]
     },
     "execution_count": 9,
     "metadata": {},
     "output_type": "execute_result"
    }
   ],
   "source": [
    "type(r)"
   ]
  },
  {
   "cell_type": "code",
   "execution_count": 10,
   "metadata": {},
   "outputs": [
    {
     "data": {
      "text/plain": [
       "200"
      ]
     },
     "execution_count": 10,
     "metadata": {},
     "output_type": "execute_result"
    }
   ],
   "source": [
    "r.status_code"
   ]
  },
  {
   "cell_type": "code",
   "execution_count": 11,
   "metadata": {},
   "outputs": [],
   "source": [
    "# r.content"
   ]
  },
  {
   "cell_type": "code",
   "execution_count": 12,
   "metadata": {},
   "outputs": [],
   "source": [
    "# pprint.pprint(r.text)"
   ]
  },
  {
   "cell_type": "code",
   "execution_count": 13,
   "metadata": {},
   "outputs": [
    {
     "data": {
      "text/plain": [
       "\"\\nclient = MongoClient('localhost', 27017)\\ndb = client.craigslist\\npages = db.main_pages\\n\""
      ]
     },
     "execution_count": 13,
     "metadata": {},
     "output_type": "execute_result"
    }
   ],
   "source": [
    "'''\n",
    "client = MongoClient('localhost', 27017)\n",
    "db = client.craigslist\n",
    "pages = db.main_pages\n",
    "'''\n",
    "\n"
   ]
  },
  {
   "cell_type": "code",
   "execution_count": null,
   "metadata": {},
   "outputs": [],
   "source": []
  },
  {
   "cell_type": "code",
   "execution_count": null,
   "metadata": {},
   "outputs": [],
   "source": [
    "# Seems like I'll need to set up a web scraper for each year and have the month values change\n",
    "\n"
   ]
  }
 ],
 "metadata": {
  "kernelspec": {
   "display_name": "Python 3",
   "language": "python",
   "name": "python3"
  },
  "language_info": {
   "codemirror_mode": {
    "name": "ipython",
    "version": 3
   },
   "file_extension": ".py",
   "mimetype": "text/x-python",
   "name": "python",
   "nbconvert_exporter": "python",
   "pygments_lexer": "ipython3",
   "version": "3.7.7"
  }
 },
 "nbformat": 4,
 "nbformat_minor": 4
}
