{
 "cells": [
  {
   "cell_type": "markdown",
   "metadata": {},
   "source": [
    "### Web Scraper to generate hisotrical weather data"
   ]
  },
  {
   "cell_type": "code",
   "execution_count": 1,
   "metadata": {},
   "outputs": [],
   "source": [
    "import requests\n",
    "import pprint\n",
    "from pymongo import MongoClient\n",
    "import json\n",
    "import time\n",
    "from bs4 import BeautifulSoup\n",
    "import pandas as pd\n",
    "from selenium import webdriver\n",
    "import selenium\n",
    "import numpy as np"
   ]
  },
  {
   "cell_type": "markdown",
   "metadata": {},
   "source": [
    "First, clean up my data in order to identify which dates to scrape weather on <br/> Pulling historic weather data from Pheonix, AZ"
   ]
  },
  {
   "cell_type": "code",
   "execution_count": 2,
   "metadata": {},
   "outputs": [
    {
     "data": {
      "text/plain": [
       "'\\nkey items:\\n\\ndate\\n<div _ngcontent-app-root-c6=\"\" class=\"date ng-star-inserted\">1</div>\\n\\nWeather description for the day\\nclass = <div _ngcontent-app-root-c6=\"\" class=\"phrase ng-star-inserted\">mostly sunny</div>\\n\\nHi\\n<span _ngcontent-app-root-c6=\"\" class=\"hi\">80°</span>\\n\\nLow\\n<span _ngcontent-app-root-c6=\"\" class=\"low\">61°</span>\\n\\nRain (in inches)\\n<span _ngcontent-app-root-c12=\"\" class=\"wu-value wu-value-to\">0.21</span>\\n\\nFOCUS HERE\\nPhoenix, AZ\\nhttps://www.wunderground.com/calendar/us/az/phoenix/KPHX/date/2015-4 \\n- date will be the changing variable\\n'"
      ]
     },
     "execution_count": 2,
     "metadata": {},
     "output_type": "execute_result"
    }
   ],
   "source": [
    "'''\n",
    "key items:\n",
    "\n",
    "date\n",
    "<div _ngcontent-app-root-c6=\"\" class=\"date ng-star-inserted\">1</div>\n",
    "\n",
    "Weather description for the day\n",
    "class = <div _ngcontent-app-root-c6=\"\" class=\"phrase ng-star-inserted\">mostly sunny</div>\n",
    "\n",
    "Hi\n",
    "<span _ngcontent-app-root-c6=\"\" class=\"hi\">80°</span>\n",
    "\n",
    "Low\n",
    "<span _ngcontent-app-root-c6=\"\" class=\"low\">61°</span>\n",
    "\n",
    "Rain (in inches)\n",
    "<span _ngcontent-app-root-c12=\"\" class=\"wu-value wu-value-to\">0.21</span>\n",
    "\n",
    "FOCUS HERE\n",
    "Phoenix, AZ\n",
    "https://www.wunderground.com/calendar/us/az/phoenix/KPHX/date/2015-4 \n",
    "- date will be the changing variable\n",
    "'''\n"
   ]
  },
  {
   "cell_type": "markdown",
   "metadata": {},
   "source": [
    "### <center> Create a List of URL's to pull data from <center>"
   ]
  },
  {
   "cell_type": "code",
   "execution_count": 3,
   "metadata": {},
   "outputs": [],
   "source": [
    "# Seems like I'll need to set up a web scraper for each year and have the month values change\n",
    "\n",
    "url_lst_2019 = []\n",
    "\n",
    "def web_scraper_links():\n",
    "    url = 'https://www.wunderground.com/calendar/us/az/phoenix/KPHX/date/2019-1'\n",
    "    for x in range(1,13):\n",
    "        url_lst_2019.append(f\"https://www.wunderground.com/calendar/us/az/phoenix/KPHX/date/2019-{x}\")\n",
    "        \n",
    "        \n",
    "web_scraper_links()\n",
    "# Above function worked just fine. Now have all 2019 weather data links"
   ]
  },
  {
   "cell_type": "code",
   "execution_count": 4,
   "metadata": {},
   "outputs": [
    {
     "data": {
      "text/plain": [
       "['https://www.wunderground.com/calendar/us/az/phoenix/KPHX/date/2019-1',\n",
       " 'https://www.wunderground.com/calendar/us/az/phoenix/KPHX/date/2019-2',\n",
       " 'https://www.wunderground.com/calendar/us/az/phoenix/KPHX/date/2019-3',\n",
       " 'https://www.wunderground.com/calendar/us/az/phoenix/KPHX/date/2019-4',\n",
       " 'https://www.wunderground.com/calendar/us/az/phoenix/KPHX/date/2019-5',\n",
       " 'https://www.wunderground.com/calendar/us/az/phoenix/KPHX/date/2019-6',\n",
       " 'https://www.wunderground.com/calendar/us/az/phoenix/KPHX/date/2019-7',\n",
       " 'https://www.wunderground.com/calendar/us/az/phoenix/KPHX/date/2019-8',\n",
       " 'https://www.wunderground.com/calendar/us/az/phoenix/KPHX/date/2019-9',\n",
       " 'https://www.wunderground.com/calendar/us/az/phoenix/KPHX/date/2019-10',\n",
       " 'https://www.wunderground.com/calendar/us/az/phoenix/KPHX/date/2019-11',\n",
       " 'https://www.wunderground.com/calendar/us/az/phoenix/KPHX/date/2019-12']"
      ]
     },
     "execution_count": 4,
     "metadata": {},
     "output_type": "execute_result"
    }
   ],
   "source": [
    "url_lst_2019"
   ]
  },
  {
   "cell_type": "code",
   "execution_count": 5,
   "metadata": {},
   "outputs": [
    {
     "data": {
      "text/plain": [
       "'\\n# This starts up my automated browser\\ndriver = webdriver.Safari()\\n# driver.get(\"https://www.wunderground.com/history/monthly/us/az/phoenix/KPHX/date/2019-1\")\\ndriver.get(\\'https://www.wunderground.com/calendar/us/az/phoenix/KPHX/date/2019-1\\')\\ndaily_data = driver.find_elements_by_class_name(\\'calendar-day.current-month.history.ng-star-inserted\\')\\nfor x in daily_data:\\n    print(\\n        x.find_element_by_class_name(\"date.ng-star-inserted\").text, \\n        x.find_element_by_class_name(\"phrase.ng-star-inserted\").text,\\n        x.find_element_by_class_name(\"hi\").text,\\n        x.find_element_by_class_name(\"low\").text,\\n        x.find_element_by_class_name(\"wu-value.wu-value-to\").text\\n         )\\n'"
      ]
     },
     "execution_count": 5,
     "metadata": {},
     "output_type": "execute_result"
    }
   ],
   "source": [
    "# Selenium rough draft:\n",
    "'''\n",
    "# This starts up my automated browser\n",
    "driver = webdriver.Safari()\n",
    "# driver.get(\"https://www.wunderground.com/history/monthly/us/az/phoenix/KPHX/date/2019-1\")\n",
    "driver.get('https://www.wunderground.com/calendar/us/az/phoenix/KPHX/date/2019-1')\n",
    "daily_data = driver.find_elements_by_class_name('calendar-day.current-month.history.ng-star-inserted')\n",
    "for x in daily_data:\n",
    "    print(\n",
    "        x.find_element_by_class_name(\"date.ng-star-inserted\").text, \n",
    "        x.find_element_by_class_name(\"phrase.ng-star-inserted\").text,\n",
    "        x.find_element_by_class_name(\"hi\").text,\n",
    "        x.find_element_by_class_name(\"low\").text,\n",
    "        x.find_element_by_class_name(\"wu-value.wu-value-to\").text\n",
    "         )\n",
    "'''"
   ]
  },
  {
   "cell_type": "code",
   "execution_count": 6,
   "metadata": {},
   "outputs": [],
   "source": [
    "def get_weather_data(x):\n",
    "    driver = webdriver.Safari()\n",
    "    # change the hyperlink to a variable so I can call my function for certain months\n",
    "    time.sleep(3)\n",
    "    driver.get(x)\n",
    "    time.sleep(3)\n",
    "    daily_data = driver.find_elements_by_class_name('calendar-day.current-month.history.ng-star-inserted')\n",
    "    day = []\n",
    "    conditions = []\n",
    "    for x in daily_data:\n",
    "        date = x.find_element_by_class_name(\"date.ng-star-inserted\").text\n",
    "        day.append(date)\n",
    "        condition = x.find_element_by_class_name(\"phrase.ng-star-inserted\").text\n",
    "        conditions.append(condition)\n",
    "    return day, conditions"
   ]
  },
  {
   "cell_type": "code",
   "execution_count": 7,
   "metadata": {},
   "outputs": [],
   "source": [
    "# Play-by-play in order to get the DF to what I need"
   ]
  },
  {
   "cell_type": "code",
   "execution_count": 8,
   "metadata": {},
   "outputs": [],
   "source": [
    "day, conditions = get_weather_data('https://www.wunderground.com/calendar/us/az/phoenix/KPHX/date/2019-1')"
   ]
  },
  {
   "cell_type": "code",
   "execution_count": 9,
   "metadata": {},
   "outputs": [],
   "source": [
    "lst = [day, conditions]"
   ]
  },
  {
   "cell_type": "code",
   "execution_count": 10,
   "metadata": {},
   "outputs": [],
   "source": [
    "month_weather_data = pd.DataFrame(lst)"
   ]
  },
  {
   "cell_type": "code",
   "execution_count": 11,
   "metadata": {},
   "outputs": [],
   "source": [
    "month_weather_data = month_weather_data.T"
   ]
  },
  {
   "cell_type": "code",
   "execution_count": 12,
   "metadata": {},
   "outputs": [],
   "source": [
    "month_weather_data.columns = ['Day', 'Condition']"
   ]
  },
  {
   "cell_type": "code",
   "execution_count": 13,
   "metadata": {},
   "outputs": [],
   "source": [
    "month_weather_data['Indicator'] = 0"
   ]
  },
  {
   "cell_type": "code",
   "execution_count": 14,
   "metadata": {},
   "outputs": [],
   "source": [
    "month_weather_data['Indicator'] = month_weather_data['Condition'].apply(lambda x: 0 if x in [\"cloudy\", \"mostly cloudy\", \"partly cloudy\", \"scattered showers\", \"thunderstorm\"] else 1)"
   ]
  },
  {
   "cell_type": "code",
   "execution_count": 15,
   "metadata": {},
   "outputs": [],
   "source": [
    "# SAVE TO CSV below!"
   ]
  },
  {
   "cell_type": "code",
   "execution_count": 16,
   "metadata": {},
   "outputs": [
    {
     "data": {
      "text/html": [
       "<div>\n",
       "<style scoped>\n",
       "    .dataframe tbody tr th:only-of-type {\n",
       "        vertical-align: middle;\n",
       "    }\n",
       "\n",
       "    .dataframe tbody tr th {\n",
       "        vertical-align: top;\n",
       "    }\n",
       "\n",
       "    .dataframe thead th {\n",
       "        text-align: right;\n",
       "    }\n",
       "</style>\n",
       "<table border=\"1\" class=\"dataframe\">\n",
       "  <thead>\n",
       "    <tr style=\"text-align: right;\">\n",
       "      <th></th>\n",
       "      <th>Day</th>\n",
       "      <th>Condition</th>\n",
       "      <th>Indicator</th>\n",
       "    </tr>\n",
       "  </thead>\n",
       "  <tbody>\n",
       "    <tr>\n",
       "      <th>0</th>\n",
       "      <td>1</td>\n",
       "      <td>mostly cloudy</td>\n",
       "      <td>0</td>\n",
       "    </tr>\n",
       "    <tr>\n",
       "      <th>1</th>\n",
       "      <td>2</td>\n",
       "      <td>mostly sunny</td>\n",
       "      <td>1</td>\n",
       "    </tr>\n",
       "    <tr>\n",
       "      <th>2</th>\n",
       "      <td>3</td>\n",
       "      <td>mostly sunny</td>\n",
       "      <td>1</td>\n",
       "    </tr>\n",
       "    <tr>\n",
       "      <th>3</th>\n",
       "      <td>4</td>\n",
       "      <td>mostly sunny</td>\n",
       "      <td>1</td>\n",
       "    </tr>\n",
       "    <tr>\n",
       "      <th>4</th>\n",
       "      <td>5</td>\n",
       "      <td>cloudy</td>\n",
       "      <td>0</td>\n",
       "    </tr>\n",
       "    <tr>\n",
       "      <th>5</th>\n",
       "      <td>6</td>\n",
       "      <td>cloudy</td>\n",
       "      <td>0</td>\n",
       "    </tr>\n",
       "    <tr>\n",
       "      <th>6</th>\n",
       "      <td>7</td>\n",
       "      <td>partly cloudy</td>\n",
       "      <td>0</td>\n",
       "    </tr>\n",
       "    <tr>\n",
       "      <th>7</th>\n",
       "      <td>8</td>\n",
       "      <td>mostly sunny</td>\n",
       "      <td>1</td>\n",
       "    </tr>\n",
       "    <tr>\n",
       "      <th>8</th>\n",
       "      <td>9</td>\n",
       "      <td>cloudy</td>\n",
       "      <td>0</td>\n",
       "    </tr>\n",
       "    <tr>\n",
       "      <th>9</th>\n",
       "      <td>10</td>\n",
       "      <td>cloudy</td>\n",
       "      <td>0</td>\n",
       "    </tr>\n",
       "    <tr>\n",
       "      <th>10</th>\n",
       "      <td>11</td>\n",
       "      <td>mostly sunny</td>\n",
       "      <td>1</td>\n",
       "    </tr>\n",
       "    <tr>\n",
       "      <th>11</th>\n",
       "      <td>12</td>\n",
       "      <td>mostly cloudy</td>\n",
       "      <td>0</td>\n",
       "    </tr>\n",
       "    <tr>\n",
       "      <th>12</th>\n",
       "      <td>13</td>\n",
       "      <td>mostly cloudy</td>\n",
       "      <td>0</td>\n",
       "    </tr>\n",
       "    <tr>\n",
       "      <th>13</th>\n",
       "      <td>14</td>\n",
       "      <td>cloudy</td>\n",
       "      <td>0</td>\n",
       "    </tr>\n",
       "    <tr>\n",
       "      <th>14</th>\n",
       "      <td>15</td>\n",
       "      <td>cloudy</td>\n",
       "      <td>0</td>\n",
       "    </tr>\n",
       "    <tr>\n",
       "      <th>15</th>\n",
       "      <td>16</td>\n",
       "      <td>partly cloudy</td>\n",
       "      <td>0</td>\n",
       "    </tr>\n",
       "    <tr>\n",
       "      <th>16</th>\n",
       "      <td>17</td>\n",
       "      <td>cloudy</td>\n",
       "      <td>0</td>\n",
       "    </tr>\n",
       "    <tr>\n",
       "      <th>17</th>\n",
       "      <td>18</td>\n",
       "      <td>mostly cloudy</td>\n",
       "      <td>0</td>\n",
       "    </tr>\n",
       "    <tr>\n",
       "      <th>18</th>\n",
       "      <td>19</td>\n",
       "      <td>partly cloudy</td>\n",
       "      <td>0</td>\n",
       "    </tr>\n",
       "    <tr>\n",
       "      <th>19</th>\n",
       "      <td>20</td>\n",
       "      <td>cloudy</td>\n",
       "      <td>0</td>\n",
       "    </tr>\n",
       "    <tr>\n",
       "      <th>20</th>\n",
       "      <td>21</td>\n",
       "      <td>partly cloudy</td>\n",
       "      <td>0</td>\n",
       "    </tr>\n",
       "    <tr>\n",
       "      <th>21</th>\n",
       "      <td>22</td>\n",
       "      <td>mostly sunny</td>\n",
       "      <td>1</td>\n",
       "    </tr>\n",
       "    <tr>\n",
       "      <th>22</th>\n",
       "      <td>23</td>\n",
       "      <td>mostly sunny</td>\n",
       "      <td>1</td>\n",
       "    </tr>\n",
       "    <tr>\n",
       "      <th>23</th>\n",
       "      <td>24</td>\n",
       "      <td>mostly sunny</td>\n",
       "      <td>1</td>\n",
       "    </tr>\n",
       "    <tr>\n",
       "      <th>24</th>\n",
       "      <td>25</td>\n",
       "      <td>mostly sunny</td>\n",
       "      <td>1</td>\n",
       "    </tr>\n",
       "    <tr>\n",
       "      <th>25</th>\n",
       "      <td>26</td>\n",
       "      <td>mostly sunny</td>\n",
       "      <td>1</td>\n",
       "    </tr>\n",
       "    <tr>\n",
       "      <th>26</th>\n",
       "      <td>27</td>\n",
       "      <td>mostly cloudy</td>\n",
       "      <td>0</td>\n",
       "    </tr>\n",
       "    <tr>\n",
       "      <th>27</th>\n",
       "      <td>28</td>\n",
       "      <td>cloudy</td>\n",
       "      <td>0</td>\n",
       "    </tr>\n",
       "    <tr>\n",
       "      <th>28</th>\n",
       "      <td>29</td>\n",
       "      <td>cloudy</td>\n",
       "      <td>0</td>\n",
       "    </tr>\n",
       "    <tr>\n",
       "      <th>29</th>\n",
       "      <td>30</td>\n",
       "      <td>cloudy</td>\n",
       "      <td>0</td>\n",
       "    </tr>\n",
       "    <tr>\n",
       "      <th>30</th>\n",
       "      <td>31</td>\n",
       "      <td>mostly cloudy</td>\n",
       "      <td>0</td>\n",
       "    </tr>\n",
       "  </tbody>\n",
       "</table>\n",
       "</div>"
      ],
      "text/plain": [
       "   Day      Condition  Indicator\n",
       "0    1  mostly cloudy          0\n",
       "1    2   mostly sunny          1\n",
       "2    3   mostly sunny          1\n",
       "3    4   mostly sunny          1\n",
       "4    5         cloudy          0\n",
       "5    6         cloudy          0\n",
       "6    7  partly cloudy          0\n",
       "7    8   mostly sunny          1\n",
       "8    9         cloudy          0\n",
       "9   10         cloudy          0\n",
       "10  11   mostly sunny          1\n",
       "11  12  mostly cloudy          0\n",
       "12  13  mostly cloudy          0\n",
       "13  14         cloudy          0\n",
       "14  15         cloudy          0\n",
       "15  16  partly cloudy          0\n",
       "16  17         cloudy          0\n",
       "17  18  mostly cloudy          0\n",
       "18  19  partly cloudy          0\n",
       "19  20         cloudy          0\n",
       "20  21  partly cloudy          0\n",
       "21  22   mostly sunny          1\n",
       "22  23   mostly sunny          1\n",
       "23  24   mostly sunny          1\n",
       "24  25   mostly sunny          1\n",
       "25  26   mostly sunny          1\n",
       "26  27  mostly cloudy          0\n",
       "27  28         cloudy          0\n",
       "28  29         cloudy          0\n",
       "29  30         cloudy          0\n",
       "30  31  mostly cloudy          0"
      ]
     },
     "execution_count": 16,
     "metadata": {},
     "output_type": "execute_result"
    }
   ],
   "source": [
    "month_weather_data"
   ]
  },
  {
   "cell_type": "code",
   "execution_count": 17,
   "metadata": {},
   "outputs": [],
   "source": [
    "# month_weather_data.to_csv(\"jan.csv\")"
   ]
  },
  {
   "cell_type": "code",
   "execution_count": 18,
   "metadata": {},
   "outputs": [],
   "source": [
    "# month_weather_data.to_csv(\"feb.csv\")"
   ]
  },
  {
   "cell_type": "code",
   "execution_count": 19,
   "metadata": {},
   "outputs": [],
   "source": [
    "# month_weather_data.to_csv(\"mar.csv\")"
   ]
  },
  {
   "cell_type": "code",
   "execution_count": 20,
   "metadata": {},
   "outputs": [],
   "source": [
    "# month_weather_data.to_csv(\"apr.csv\")"
   ]
  },
  {
   "cell_type": "code",
   "execution_count": 21,
   "metadata": {},
   "outputs": [],
   "source": [
    "# month_weather_data.to_csv(\"may.csv\")"
   ]
  },
  {
   "cell_type": "code",
   "execution_count": 22,
   "metadata": {},
   "outputs": [],
   "source": [
    "# month_weather_data.to_csv(\"jun.csv\")"
   ]
  },
  {
   "cell_type": "code",
   "execution_count": 23,
   "metadata": {},
   "outputs": [],
   "source": [
    "# month_weather_data.to_csv(\"jul.csv\")"
   ]
  },
  {
   "cell_type": "code",
   "execution_count": 24,
   "metadata": {},
   "outputs": [],
   "source": [
    "# month_weather_data.to_csv(\"aug.csv\")"
   ]
  },
  {
   "cell_type": "code",
   "execution_count": 25,
   "metadata": {},
   "outputs": [],
   "source": [
    "# month_weather_data.to_csv(\"sep.csv\")"
   ]
  },
  {
   "cell_type": "code",
   "execution_count": 26,
   "metadata": {},
   "outputs": [],
   "source": [
    "# month_weather_data.to_csv(\"oct.csv\")"
   ]
  },
  {
   "cell_type": "code",
   "execution_count": 27,
   "metadata": {},
   "outputs": [],
   "source": [
    "# month_weather_data.to_csv(\"nov.csv\")"
   ]
  },
  {
   "cell_type": "code",
   "execution_count": 28,
   "metadata": {},
   "outputs": [],
   "source": [
    "# month_weather_data.to_csv(\"dec.csv\")"
   ]
  },
  {
   "cell_type": "code",
   "execution_count": null,
   "metadata": {},
   "outputs": [],
   "source": []
  }
 ],
 "metadata": {
  "kernelspec": {
   "display_name": "Python 3",
   "language": "python",
   "name": "python3"
  },
  "language_info": {
   "codemirror_mode": {
    "name": "ipython",
    "version": 3
   },
   "file_extension": ".py",
   "mimetype": "text/x-python",
   "name": "python",
   "nbconvert_exporter": "python",
   "pygments_lexer": "ipython3",
   "version": "3.7.7"
  }
 },
 "nbformat": 4,
 "nbformat_minor": 4
}
