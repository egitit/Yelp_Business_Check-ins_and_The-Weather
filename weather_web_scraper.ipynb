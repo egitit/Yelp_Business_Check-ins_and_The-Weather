{
 "cells": [
  {
   "cell_type": "markdown",
   "metadata": {},
   "source": [
    "### Web Scraper to generate hisotrical weather data"
   ]
  },
  {
   "cell_type": "code",
   "execution_count": 1,
   "metadata": {},
   "outputs": [],
   "source": [
    "import requests\n",
    "import pprint\n",
    "from pymongo import MongoClient\n",
    "import json\n",
    "import time\n",
    "from bs4 import BeautifulSoup\n",
    "import pandas as pd\n",
    "from selenium import webdriver\n",
    "import selenium"
   ]
  },
  {
   "cell_type": "markdown",
   "metadata": {},
   "source": [
    "First, clean up my data in order to identify which dates to scrape weather on <br/> Pulling historic weather data from Pheonix, AZ"
   ]
  },
  {
   "cell_type": "code",
   "execution_count": 2,
   "metadata": {},
   "outputs": [
    {
     "data": {
      "text/plain": [
       "'\\nkey items:\\n\\ndate\\n<div _ngcontent-app-root-c6=\"\" class=\"date ng-star-inserted\">1</div>\\n\\nWeather description for the day\\nclass = <div _ngcontent-app-root-c6=\"\" class=\"phrase ng-star-inserted\">mostly sunny</div>\\n\\nHi\\n<span _ngcontent-app-root-c6=\"\" class=\"hi\">80°</span>\\n\\nLow\\n<span _ngcontent-app-root-c6=\"\" class=\"low\">61°</span>\\n\\nRain (in inches)\\n<span _ngcontent-app-root-c12=\"\" class=\"wu-value wu-value-to\">0.21</span>\\n\\nFOCUS HERE\\nPhoenix, AZ\\nhttps://www.wunderground.com/calendar/us/az/phoenix/KPHX/date/2015-4 \\n- date will be the changing variable\\n'"
      ]
     },
     "execution_count": 2,
     "metadata": {},
     "output_type": "execute_result"
    }
   ],
   "source": [
    "'''\n",
    "key items:\n",
    "\n",
    "date\n",
    "<div _ngcontent-app-root-c6=\"\" class=\"date ng-star-inserted\">1</div>\n",
    "\n",
    "Weather description for the day\n",
    "class = <div _ngcontent-app-root-c6=\"\" class=\"phrase ng-star-inserted\">mostly sunny</div>\n",
    "\n",
    "Hi\n",
    "<span _ngcontent-app-root-c6=\"\" class=\"hi\">80°</span>\n",
    "\n",
    "Low\n",
    "<span _ngcontent-app-root-c6=\"\" class=\"low\">61°</span>\n",
    "\n",
    "Rain (in inches)\n",
    "<span _ngcontent-app-root-c12=\"\" class=\"wu-value wu-value-to\">0.21</span>\n",
    "\n",
    "FOCUS HERE\n",
    "Phoenix, AZ\n",
    "https://www.wunderground.com/calendar/us/az/phoenix/KPHX/date/2015-4 \n",
    "- date will be the changing variable\n",
    "'''\n"
   ]
  },
  {
   "cell_type": "code",
   "execution_count": 3,
   "metadata": {},
   "outputs": [
    {
     "data": {
      "text/plain": [
       "\"\\nclient = MongoClient('localhost', 27017)\\ndb = client.weather\\npages = db.main_pages\\n\""
      ]
     },
     "execution_count": 3,
     "metadata": {},
     "output_type": "execute_result"
    }
   ],
   "source": [
    "'''\n",
    "client = MongoClient('localhost', 27017)\n",
    "db = client.weather\n",
    "pages = db.main_pages\n",
    "'''"
   ]
  },
  {
   "cell_type": "markdown",
   "metadata": {},
   "source": [
    "### <center> Create a List of URL's to pull data from <center>"
   ]
  },
  {
   "cell_type": "code",
   "execution_count": 4,
   "metadata": {},
   "outputs": [],
   "source": [
    "# Seems like I'll need to set up a web scraper for each year and have the month values change\n",
    "\n",
    "url_lst_2019 = []\n",
    "\n",
    "def web_scraper_links():\n",
    "    url = 'https://www.wunderground.com/history/monthly/us/az/phoenix/KPHX/date/2019-1'\n",
    "    for x in range(1,13):\n",
    "        url_lst_2019.append(f\"https://www.wunderground.com/history/monthly/us/az/phoenix/KPHX/date/2019-{x}\")\n",
    "        \n",
    "        \n",
    "web_scraper_links()\n",
    "# Above function worked just fine. Now have all 2019 weather data links"
   ]
  },
  {
   "cell_type": "code",
   "execution_count": 6,
   "metadata": {},
   "outputs": [],
   "source": [
    "# This starts up my automated browser\n",
    "driver = webdriver.Safari()"
   ]
  },
  {
   "cell_type": "code",
   "execution_count": 7,
   "metadata": {},
   "outputs": [],
   "source": [
    "driver.get(\"https://www.wunderground.com/history/monthly/us/az/phoenix/KPHX/date/2019-1\")"
   ]
  },
  {
   "cell_type": "code",
   "execution_count": 10,
   "metadata": {},
   "outputs": [],
   "source": [
    "data = driver.find_element_by_class_name(\"days.ng-star-inserted\")"
   ]
  },
  {
   "cell_type": "code",
   "execution_count": 11,
   "metadata": {},
   "outputs": [
    {
     "data": {
      "text/plain": [
       "'TimeTemperature (° F)Dew Point (° F)Humidity (%)Wind Speed (mph)Pressure (Hg)Precipitation (in) Jan  1  2  3  4  5  6  7  8  9  10  11  12  13  14  15  16  17  18  19  20  21  22  23  24  25  26  27  28  29  30  31  Max  Avg  Min  50  43.2  37  51  41.0  30  56  43.9  33  66  50.7  37  67  56.3  46  55  51.0  46  62  52.2  43  71  56.0  43  72  59.1  49  67  58.0  50  65  55.3  46  68  56.9  49  62  54.3  48  68  59.4  51  65  58.0  52  67  58.4  51  69  58.9  48  69  60.5  53  71  58.5  45  74  59.5  46  67  56.0  49  63  53.6  44  61  51.1  41  68  53.7  41  68  56.0  40  71  56.8  42  73  57.5  45  72  58.8  47  71  61.4  52  73  63.5  56  72  62.3  51  Max  Avg  Min  41  34.1  22  30  23.4  16  33  26.3  20  34  29.4  25  51  36.1  31  51  48.1  45  46  43.4  39  48  43.2  39  47  43.0  36  48  44.7  42  48  45.8  44  51  40.5  32  51  48.1  43  53  47.4  44  55  49.6  42  54  51.0  48  52  48.2  46  51  46.9  30  39  29.7  17  40  34.0  26  42  31.9  14  32  24.6  16  27  20.4  13  33  27.5  23  34  26.7  17  32  25.1  16  33  26.1  18  37  31.4  27  38  32.9  27  38  34.7  30  41  37.2  34  Max  Avg  Min  100  73.7  41  82  53.5  26  85  54.6  25  79  48.4  22  100  49.6  28  100  90.7  69  100  75.4  43  97  66.3  32  93  59.5  27  89  62.7  45  96  72.8  47  97  59.8  26  100  81.2  52  92  66.6  43  100  76.4  43  100  79.0  51  96  69.7  45  90  63.0  32  76  38.5  13  73  42.8  17  66  43.3  14  63  35.6  18  53  32.7  16  60  39.5  19  79  37.5  14  67  34.6  13  52  33.0  12  54  37.6  19  57  36.9  19  51  35.8  20  63  41.4  25  Max  Avg  Min  7  3.6  0  6  3.3  0  9  3.6  0  9  4.3  0  15  6.0  0  8  4.1  0  7  3.9  0  9  2.2  0  14  4.6  0  7  4.0  0  8  5.8  3  17  7.5  3  9  1.9  0  10  4.7  0  13  5.8  0  6  3.0  0  9  3.5  0  14  6.0  0  9  3.6  0  8  3.6  0  28  11.5  0  10  5.6  0  9  2.6  0  8  3.5  0  10  4.4  0  7  3.0  0  8  3.3  0  7  3.6  0  8  3.4  0  8  4.0  0  9  4.1  0  Max  Avg  Min  28.9  28.8  28.8  29.1  28.9  28.8  29.1  29.0  28.9  28.9  28.9  28.8  28.8  28.8  28.8  29.0  28.9  28.8  29.1  29.0  29.0  29.0  28.9  28.9  29.0  28.9  28.8  28.9  28.8  28.8  28.9  28.9  28.8  28.9  28.8  28.8  28.9  28.9  28.8  28.9  28.9  28.8  28.9  28.9  28.8  29.0  29.0  28.9  29.0  28.9  28.9  29.0  28.9  28.9  29.1  29.0  29.0  28.9  28.8  28.7  28.7  28.7  28.6  29.1  28.9  28.7  29.1  29.0  28.9  29.0  28.9  28.9  29.0  28.9  28.8  29.0  28.9  28.9  29.0  28.9  28.8  28.8  28.8  28.7  28.8  28.7  28.6  28.7  28.7  28.6  28.8  28.7  28.7  Total  0.14  0.00  0.00  0.00  0.00  0.48  0.07  0.00  0.00  0.00  0.00  0.00  0.04  0.00  0.03  0.12  0.00  0.00  0.00  0.00  0.00  0.00  0.00  0.00  0.00  0.00  0.00  0.00  0.00  0.00  0.00 '"
      ]
     },
     "execution_count": 11,
     "metadata": {},
     "output_type": "execute_result"
    }
   ],
   "source": [
    "data.text"
   ]
  },
  {
   "cell_type": "code",
   "execution_count": 16,
   "metadata": {},
   "outputs": [],
   "source": [
    "def get_data(lst):\n",
    "    data = []\n",
    "    driver = webdriver.Safari()\n",
    "    for x in lst:\n",
    "        time.sleep(10)\n",
    "        driver.get(x)\n",
    "        info = driver.find_element_by_class_name(\"days.ng-star-inserted\")\n",
    "        data.append(info.text)\n",
    "    df = pd.DataFrame(data, columns = ['Time', 'Temperature (° F)', 'Dew Point (° F)', 'Humidity (%)', 'Wind Speed (mph)', 'Pressure (Hg)', 'Precipitation (in)'])\n",
    "    return df"
   ]
  },
  {
   "cell_type": "code",
   "execution_count": 19,
   "metadata": {},
   "outputs": [
    {
     "data": {
      "text/plain": [
       "['https://www.wunderground.com/history/monthly/us/az/phoenix/KPHX/date/2019-1',\n",
       " 'https://www.wunderground.com/history/monthly/us/az/phoenix/KPHX/date/2019-2',\n",
       " 'https://www.wunderground.com/history/monthly/us/az/phoenix/KPHX/date/2019-3',\n",
       " 'https://www.wunderground.com/history/monthly/us/az/phoenix/KPHX/date/2019-4',\n",
       " 'https://www.wunderground.com/history/monthly/us/az/phoenix/KPHX/date/2019-5',\n",
       " 'https://www.wunderground.com/history/monthly/us/az/phoenix/KPHX/date/2019-6',\n",
       " 'https://www.wunderground.com/history/monthly/us/az/phoenix/KPHX/date/2019-7',\n",
       " 'https://www.wunderground.com/history/monthly/us/az/phoenix/KPHX/date/2019-8',\n",
       " 'https://www.wunderground.com/history/monthly/us/az/phoenix/KPHX/date/2019-9',\n",
       " 'https://www.wunderground.com/history/monthly/us/az/phoenix/KPHX/date/2019-10',\n",
       " 'https://www.wunderground.com/history/monthly/us/az/phoenix/KPHX/date/2019-11',\n",
       " 'https://www.wunderground.com/history/monthly/us/az/phoenix/KPHX/date/2019-12']"
      ]
     },
     "execution_count": 19,
     "metadata": {},
     "output_type": "execute_result"
    }
   ],
   "source": [
    "url_lst_2019"
   ]
  },
  {
   "cell_type": "code",
   "execution_count": null,
   "metadata": {},
   "outputs": [],
   "source": [
    "# get_data(url_lst_2019)"
   ]
  },
  {
   "cell_type": "code",
   "execution_count": null,
   "metadata": {},
   "outputs": [],
   "source": []
  },
  {
   "cell_type": "code",
   "execution_count": null,
   "metadata": {},
   "outputs": [],
   "source": []
  },
  {
   "cell_type": "code",
   "execution_count": null,
   "metadata": {},
   "outputs": [],
   "source": [
    "# soup = BeautifulSoup(driver.page_source, 'html.parser')"
   ]
  },
  {
   "cell_type": "code",
   "execution_count": null,
   "metadata": {},
   "outputs": [],
   "source": [
    "# days = soup.findAll(\"li\", {\"class\": \"calendar-day history ng-star-inserted\"})"
   ]
  },
  {
   "cell_type": "code",
   "execution_count": null,
   "metadata": {},
   "outputs": [],
   "source": [
    "# for d in days:\n",
    "#     print(d.find(\"div\", {\"class\": \"date ng-star-inserted\"}).text)"
   ]
  },
  {
   "cell_type": "code",
   "execution_count": null,
   "metadata": {},
   "outputs": [],
   "source": []
  },
  {
   "cell_type": "code",
   "execution_count": null,
   "metadata": {},
   "outputs": [],
   "source": []
  }
 ],
 "metadata": {
  "kernelspec": {
   "display_name": "Python 3",
   "language": "python",
   "name": "python3"
  },
  "language_info": {
   "codemirror_mode": {
    "name": "ipython",
    "version": 3
   },
   "file_extension": ".py",
   "mimetype": "text/x-python",
   "name": "python",
   "nbconvert_exporter": "python",
   "pygments_lexer": "ipython3",
   "version": "3.7.7"
  }
 },
 "nbformat": 4,
 "nbformat_minor": 4
}
