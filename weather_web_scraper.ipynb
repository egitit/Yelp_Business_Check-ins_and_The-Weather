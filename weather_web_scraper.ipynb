{
 "cells": [
  {
   "cell_type": "markdown",
   "metadata": {},
   "source": [
    "### Web Scraper to generate hisotrical weather data"
   ]
  },
  {
   "cell_type": "code",
   "execution_count": 1,
   "metadata": {},
   "outputs": [],
   "source": [
    "import requests"
   ]
  },
  {
   "cell_type": "code",
   "execution_count": 2,
   "metadata": {},
   "outputs": [],
   "source": [
    "from bs4 import BeautifulSoup"
   ]
  },
  {
   "cell_type": "markdown",
   "metadata": {},
   "source": [
    "First, clean up my data in order to identify which dates to scrape weather on"
   ]
  },
  {
   "cell_type": "markdown",
   "metadata": {},
   "source": [
    "Pulling historic weather data from Pheonix, AZ & Las Vegas, NV"
   ]
  },
  {
   "cell_type": "markdown",
   "metadata": {},
   "source": [
    "key class items:\n",
    "\n",
    "date\n",
    "<div _ngcontent-app-root-c6=\"\" class=\"date ng-star-inserted\">1</div>\n",
    "<div _ngcontent-app-root-c6=\"\" class=\"date ng-star-inserted\">2</div>\n",
    "etc, etc.\n",
    "\n",
    "Weather description for the day\n",
    "class = <div _ngcontent-app-root-c6=\"\" class=\"phrase ng-star-inserted\">mostly sunny</div>\n",
    "\n",
    "Hi\n",
    "<span _ngcontent-app-root-c6=\"\" class=\"hi\">80°</span>\n",
    "\n",
    "Low\n",
    "<span _ngcontent-app-root-c6=\"\" class=\"low\">61°</span>\n",
    "\n",
    "Rain (in inches)\n",
    "<span _ngcontent-app-root-c12=\"\" class=\"wu-value wu-value-to\">0.21</span>\n",
    "\n",
    "urls:\n",
    "LV, NV\n",
    "https://www.wunderground.com/calendar/us/nv/north-las-vegas/KVGT/date/2015-4 - date will be the changing variable\n",
    "\n",
    "Phoenix, AZ\n",
    "https://www.wunderground.com/calendar/us/az/phoenix/KPHX/date/2015-4 - date will be the changing variable"
   ]
  }
 ],
 "metadata": {
  "kernelspec": {
   "display_name": "Python 3",
   "language": "python",
   "name": "python3"
  },
  "language_info": {
   "codemirror_mode": {
    "name": "ipython",
    "version": 3
   },
   "file_extension": ".py",
   "mimetype": "text/x-python",
   "name": "python",
   "nbconvert_exporter": "python",
   "pygments_lexer": "ipython3",
   "version": "3.7.7"
  }
 },
 "nbformat": 4,
 "nbformat_minor": 4
}
