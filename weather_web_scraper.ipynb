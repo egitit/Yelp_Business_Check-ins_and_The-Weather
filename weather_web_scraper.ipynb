{
 "cells": [
  {
   "cell_type": "markdown",
   "metadata": {},
   "source": [
    "### Web Scraper to generate hisotrical weather data"
   ]
  },
  {
   "cell_type": "code",
   "execution_count": 1,
   "metadata": {},
   "outputs": [],
   "source": [
    "import requests\n",
    "import pprint\n",
    "from pymongo import MongoClient\n",
    "import json\n",
    "import time\n",
    "from bs4 import BeautifulSoup\n",
    "import pandas as pd\n",
    "from selenium import webdriver\n",
    "import selenium\n",
    "import numpy as np"
   ]
  },
  {
   "cell_type": "markdown",
   "metadata": {},
   "source": [
    "First, clean up my data in order to identify which dates to scrape weather on <br/> Pulling historic weather data from Pheonix, AZ"
   ]
  },
  {
   "cell_type": "code",
   "execution_count": 2,
   "metadata": {},
   "outputs": [
    {
     "data": {
      "text/plain": [
       "'\\nkey items:\\n\\ndate\\n<div _ngcontent-app-root-c6=\"\" class=\"date ng-star-inserted\">1</div>\\n\\nWeather description for the day\\nclass = <div _ngcontent-app-root-c6=\"\" class=\"phrase ng-star-inserted\">mostly sunny</div>\\n\\nHi\\n<span _ngcontent-app-root-c6=\"\" class=\"hi\">80°</span>\\n\\nLow\\n<span _ngcontent-app-root-c6=\"\" class=\"low\">61°</span>\\n\\nRain (in inches)\\n<span _ngcontent-app-root-c12=\"\" class=\"wu-value wu-value-to\">0.21</span>\\n\\nFOCUS HERE\\nPhoenix, AZ\\nhttps://www.wunderground.com/calendar/us/az/phoenix/KPHX/date/2015-4 \\n- date will be the changing variable\\n'"
      ]
     },
     "execution_count": 2,
     "metadata": {},
     "output_type": "execute_result"
    }
   ],
   "source": [
    "'''\n",
    "key items:\n",
    "\n",
    "date\n",
    "<div _ngcontent-app-root-c6=\"\" class=\"date ng-star-inserted\">1</div>\n",
    "\n",
    "Weather description for the day\n",
    "class = <div _ngcontent-app-root-c6=\"\" class=\"phrase ng-star-inserted\">mostly sunny</div>\n",
    "\n",
    "Hi\n",
    "<span _ngcontent-app-root-c6=\"\" class=\"hi\">80°</span>\n",
    "\n",
    "Low\n",
    "<span _ngcontent-app-root-c6=\"\" class=\"low\">61°</span>\n",
    "\n",
    "Rain (in inches)\n",
    "<span _ngcontent-app-root-c12=\"\" class=\"wu-value wu-value-to\">0.21</span>\n",
    "\n",
    "FOCUS HERE\n",
    "Phoenix, AZ\n",
    "https://www.wunderground.com/calendar/us/az/phoenix/KPHX/date/2015-4 \n",
    "- date will be the changing variable\n",
    "'''\n"
   ]
  },
  {
   "cell_type": "markdown",
   "metadata": {},
   "source": [
    "### <center> Create a List of URL's to pull data from <center>"
   ]
  },
  {
   "cell_type": "code",
   "execution_count": 3,
   "metadata": {},
   "outputs": [],
   "source": [
    "# Seems like I'll need to set up a web scraper for each year and have the month values change\n",
    "\n",
    "url_lst_2019 = []\n",
    "\n",
    "def web_scraper_links():\n",
    "    url = 'https://www.wunderground.com/calendar/us/az/phoenix/KPHX/date/2019-1'\n",
    "    for x in range(1,13):\n",
    "        url_lst_2019.append(f\"https://www.wunderground.com/calendar/us/az/phoenix/KPHX/date/2019-{x}\")\n",
    "        \n",
    "        \n",
    "web_scraper_links()\n",
    "# Above function worked just fine. Now have all 2019 weather data links"
   ]
  },
  {
   "cell_type": "code",
   "execution_count": 4,
   "metadata": {},
   "outputs": [
    {
     "data": {
      "text/plain": [
       "['https://www.wunderground.com/calendar/us/az/phoenix/KPHX/date/2019-1',\n",
       " 'https://www.wunderground.com/calendar/us/az/phoenix/KPHX/date/2019-2',\n",
       " 'https://www.wunderground.com/calendar/us/az/phoenix/KPHX/date/2019-3',\n",
       " 'https://www.wunderground.com/calendar/us/az/phoenix/KPHX/date/2019-4',\n",
       " 'https://www.wunderground.com/calendar/us/az/phoenix/KPHX/date/2019-5',\n",
       " 'https://www.wunderground.com/calendar/us/az/phoenix/KPHX/date/2019-6',\n",
       " 'https://www.wunderground.com/calendar/us/az/phoenix/KPHX/date/2019-7',\n",
       " 'https://www.wunderground.com/calendar/us/az/phoenix/KPHX/date/2019-8',\n",
       " 'https://www.wunderground.com/calendar/us/az/phoenix/KPHX/date/2019-9',\n",
       " 'https://www.wunderground.com/calendar/us/az/phoenix/KPHX/date/2019-10',\n",
       " 'https://www.wunderground.com/calendar/us/az/phoenix/KPHX/date/2019-11',\n",
       " 'https://www.wunderground.com/calendar/us/az/phoenix/KPHX/date/2019-12']"
      ]
     },
     "execution_count": 4,
     "metadata": {},
     "output_type": "execute_result"
    }
   ],
   "source": [
    "url_lst_2019"
   ]
  },
  {
   "cell_type": "code",
   "execution_count": 5,
   "metadata": {},
   "outputs": [
    {
     "data": {
      "text/plain": [
       "'\\n# This starts up my automated browser\\ndriver = webdriver.Safari()\\n# driver.get(\"https://www.wunderground.com/history/monthly/us/az/phoenix/KPHX/date/2019-1\")\\ndriver.get(\\'https://www.wunderground.com/calendar/us/az/phoenix/KPHX/date/2019-1\\')\\ndaily_data = driver.find_elements_by_class_name(\\'calendar-day.current-month.history.ng-star-inserted\\')\\nfor x in daily_data:\\n    print(\\n        x.find_element_by_class_name(\"date.ng-star-inserted\").text, \\n        x.find_element_by_class_name(\"phrase.ng-star-inserted\").text,\\n        x.find_element_by_class_name(\"hi\").text,\\n        x.find_element_by_class_name(\"low\").text,\\n        x.find_element_by_class_name(\"wu-value.wu-value-to\").text\\n         )\\n'"
      ]
     },
     "execution_count": 5,
     "metadata": {},
     "output_type": "execute_result"
    }
   ],
   "source": [
    "# Selenium rough draft:\n",
    "'''\n",
    "# This starts up my automated browser\n",
    "driver = webdriver.Safari()\n",
    "# driver.get(\"https://www.wunderground.com/history/monthly/us/az/phoenix/KPHX/date/2019-1\")\n",
    "driver.get('https://www.wunderground.com/calendar/us/az/phoenix/KPHX/date/2019-1')\n",
    "daily_data = driver.find_elements_by_class_name('calendar-day.current-month.history.ng-star-inserted')\n",
    "for x in daily_data:\n",
    "    print(\n",
    "        x.find_element_by_class_name(\"date.ng-star-inserted\").text, \n",
    "        x.find_element_by_class_name(\"phrase.ng-star-inserted\").text,\n",
    "        x.find_element_by_class_name(\"hi\").text,\n",
    "        x.find_element_by_class_name(\"low\").text,\n",
    "        x.find_element_by_class_name(\"wu-value.wu-value-to\").text\n",
    "         )\n",
    "'''"
   ]
  },
  {
   "cell_type": "code",
   "execution_count": 6,
   "metadata": {},
   "outputs": [],
   "source": [
    "def get_weather_data(x):\n",
    "    driver = webdriver.Safari()\n",
    "    # change the hyperlink to a variable so I can call my function for certain months\n",
    "    time.sleep(3)\n",
    "    driver.get(x)\n",
    "    time.sleep(3)\n",
    "    daily_data = driver.find_elements_by_class_name('calendar-day.current-month.history.ng-star-inserted')\n",
    "    dates = []\n",
    "    conditions = []\n",
    "    for x in daily_data:\n",
    "        date = x.find_element_by_class_name(\"date.ng-star-inserted\").text\n",
    "        dates.append(date)\n",
    "        condition = x.find_element_by_class_name(\"phrase.ng-star-inserted\").text\n",
    "        conditions.append(condition)\n",
    "    return dates, conditions"
   ]
  },
  {
   "cell_type": "code",
   "execution_count": 7,
   "metadata": {},
   "outputs": [],
   "source": [
    "# Play-by-play in order to get the DF to what I need"
   ]
  },
  {
   "cell_type": "code",
   "execution_count": null,
   "metadata": {},
   "outputs": [],
   "source": [
    "dates, conditions = get_weather_data('https://www.wunderground.com/calendar/us/az/phoenix/KPHX/date/2019-1')"
   ]
  },
  {
   "cell_type": "code",
   "execution_count": null,
   "metadata": {},
   "outputs": [],
   "source": [
    "lst = [dates, conditions]"
   ]
  },
  {
   "cell_type": "code",
   "execution_count": null,
   "metadata": {},
   "outputs": [],
   "source": [
    "jan_weather_data = pd.DataFrame(lst)"
   ]
  },
  {
   "cell_type": "code",
   "execution_count": null,
   "metadata": {},
   "outputs": [],
   "source": [
    "jan_weather_data = jan_weather_data.T"
   ]
  },
  {
   "cell_type": "code",
   "execution_count": null,
   "metadata": {},
   "outputs": [],
   "source": [
    "jan_weather_data.columns = ['Date', 'Condition']"
   ]
  },
  {
   "cell_type": "code",
   "execution_count": null,
   "metadata": {},
   "outputs": [],
   "source": [
    "jan_weather_data['Indicator'] = 0"
   ]
  },
  {
   "cell_type": "code",
   "execution_count": null,
   "metadata": {},
   "outputs": [],
   "source": [
    "jan_weather_data['Indicator'] = jan_weather_data['Condition'].apply(lambda x: 0 if x in [\"cloudy\", \"mostly cloudy\", \"partly cloudy\"] else 1)"
   ]
  },
  {
   "cell_type": "code",
   "execution_count": null,
   "metadata": {},
   "outputs": [],
   "source": [
    "# SAVE TO CSV below!"
   ]
  },
  {
   "cell_type": "code",
   "execution_count": null,
   "metadata": {},
   "outputs": [],
   "source": [
    "# jan_weather_data.to_csv(\"file name\")"
   ]
  },
  {
   "cell_type": "code",
   "execution_count": null,
   "metadata": {},
   "outputs": [],
   "source": [
    "jan_weather_data"
   ]
  }
 ],
 "metadata": {
  "kernelspec": {
   "display_name": "Python 3",
   "language": "python",
   "name": "python3"
  },
  "language_info": {
   "codemirror_mode": {
    "name": "ipython",
    "version": 3
   },
   "file_extension": ".py",
   "mimetype": "text/x-python",
   "name": "python",
   "nbconvert_exporter": "python",
   "pygments_lexer": "ipython3",
   "version": "3.7.7"
  }
 },
 "nbformat": 4,
 "nbformat_minor": 4
}
