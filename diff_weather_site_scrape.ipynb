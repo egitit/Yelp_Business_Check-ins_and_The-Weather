{
 "cells": [
  {
   "cell_type": "code",
   "execution_count": 1,
   "metadata": {},
   "outputs": [],
   "source": [
    "import pandas as pd\n",
    "from selenium import webdriver\n",
    "import selenium\n",
    "from selenium.webdriver.common.keys import Keys\n",
    "import time\n",
    "from bs4 import BeautifulSoup\n",
    "# months = ['Jan', 'Feb', 'Mar', 'Apr', 'May', 'Jun', 'Jul', 'Aug', 'Sep', 'Oct', 'Nov', 'Dec']"
   ]
  },
  {
   "cell_type": "code",
   "execution_count": 2,
   "metadata": {},
   "outputs": [],
   "source": [
    "# url = https://www.usclimatedata.com/climate/phoenix/arizona/united-states/usaz0166"
   ]
  },
  {
   "cell_type": "code",
   "execution_count": 3,
   "metadata": {},
   "outputs": [],
   "source": [
    "driver = webdriver.Safari()"
   ]
  },
  {
   "cell_type": "code",
   "execution_count": 4,
   "metadata": {},
   "outputs": [],
   "source": [
    "time.sleep(1)\n",
    "driver.get(\"https://www.usclimatedata.com/climate/phoenix/arizona/united-states/usaz0166\")"
   ]
  },
  {
   "cell_type": "code",
   "execution_count": 5,
   "metadata": {},
   "outputs": [],
   "source": [
    "time.sleep(2)\n",
    "button = driver.find_element_by_id('history-tab')\n",
    "button.click()"
   ]
  },
  {
   "cell_type": "code",
   "execution_count": 6,
   "metadata": {},
   "outputs": [],
   "source": [
    "# ABOVE THIS CELL GETS ME TO THE HISTORY TAB FOR PHX,AZ"
   ]
  },
  {
   "cell_type": "code",
   "execution_count": 7,
   "metadata": {
    "scrolled": true
   },
   "outputs": [],
   "source": [
    "time.sleep(2)\n",
    "text = driver.find_element_by_id(\"year_month_selector\")\n",
    "text.click()\n",
    "time.sleep(1)\n",
    "month = driver.find_element_by_xpath(\"//table[@class='table-condensed']/tbody/tr/td/span[text()='Jan']\")\n",
    "month.click()"
   ]
  },
  {
   "cell_type": "code",
   "execution_count": 8,
   "metadata": {
    "scrolled": true
   },
   "outputs": [
    {
     "data": {
      "text/plain": [
       "'Previous columnNext columnDayHighºFLowºFPrecip.inchSnowinchSnow d.inch01 Jan 51.137.90.000.000.002 Jan 52.030.20.000.000.003 Jan 57.033.10.000.000.004 Jan 66.937.00.000.000.005 Jan 66.945.00.070.000.006 Jan 55.046.90.480.000.007 Jan 63.043.00.000.000.008 Jan 72.043.00.000.000.009 Jan 73.048.00.000.000.010 Jan 66.950.00.000.000.011 Jan 66.045.00.000.000.012 Jan 69.146.90.03-0.013 Jan 63.046.90.01-0.014 Jan 70.051.10.030.000.015 Jan 64.953.10.120.000.016 Jan 69.150.00.000.000.017 Jan 69.148.00.000.000.018 Jan 70.051.10.000.000.019 Jan 71.144.10.000.000.020 Jan 73.946.00.000.000.021 Jan 68.048.90.000.000.022 Jan 64.043.00.000.000.023 Jan 62.137.90.000.000.024 Jan 69.139.00.000.000.025 Jan 69.139.90.000.000.026 Jan 72.041.00.000.000.027 Jan 73.045.00.000.000.028 Jan 72.046.90.000.000.029 Jan 71.151.10.000.000.030 Jan 73.955.00.000.000.031 Jan 73.051.10.000.000.0'"
      ]
     },
     "execution_count": 8,
     "metadata": {},
     "output_type": "execute_result"
    }
   ],
   "source": [
    "time.sleep(2)\n",
    "data = driver.find_element_by_class_name(\"history_table_div\")\n",
    "data.text"
   ]
  },
  {
   "cell_type": "code",
   "execution_count": 9,
   "metadata": {},
   "outputs": [
    {
     "data": {
      "text/plain": [
       "Previous columnNext columnDayHighºFLowºFPrecip.inchSnowinchSnow d.inch01 Jan 51.137.90.000.000.002 Jan 52.030.20.000.000.003 Jan 57.033.10.000.000.004 Jan 66.937.00.000.000.005 Jan 66.945.00.070.000.006 Jan 55.046.90.480.000.007 Jan 63.043.00.000.000.008 Jan 72.043.00.000.000.009 Jan 73.048.00.000.000.010 Jan 66.950.00.000.000.011 Jan 66.045.00.000.000.012 Jan 69.146.90.03-0.013 Jan 63.046.90.01-0.014 Jan 70.051.10.030.000.015 Jan 64.953.10.120.000.016 Jan 69.150.00.000.000.017 Jan 69.148.00.000.000.018 Jan 70.051.10.000.000.019 Jan 71.144.10.000.000.020 Jan 73.946.00.000.000.021 Jan 68.048.90.000.000.022 Jan 64.043.00.000.000.023 Jan 62.137.90.000.000.024 Jan 69.139.00.000.000.025 Jan 69.139.90.000.000.026 Jan 72.041.00.000.000.027 Jan 73.045.00.000.000.028 Jan 72.046.90.000.000.029 Jan 71.151.10.000.000.030 Jan 73.955.00.000.000.031 Jan 73.051.10.000.000.0"
      ]
     },
     "execution_count": 9,
     "metadata": {},
     "output_type": "execute_result"
    }
   ],
   "source": [
    "sub_soup = BeautifulSoup(data.text, 'html.parser')\n",
    "sub_soup"
   ]
  },
  {
   "cell_type": "code",
   "execution_count": 10,
   "metadata": {},
   "outputs": [
    {
     "data": {
      "text/plain": [
       "bs4.BeautifulSoup"
      ]
     },
     "execution_count": 10,
     "metadata": {},
     "output_type": "execute_result"
    }
   ],
   "source": [
    "type(sub_soup)"
   ]
  },
  {
   "cell_type": "code",
   "execution_count": null,
   "metadata": {},
   "outputs": [],
   "source": []
  },
  {
   "cell_type": "code",
   "execution_count": null,
   "metadata": {},
   "outputs": [],
   "source": []
  }
 ],
 "metadata": {
  "kernelspec": {
   "display_name": "Python 3",
   "language": "python",
   "name": "python3"
  },
  "language_info": {
   "codemirror_mode": {
    "name": "ipython",
    "version": 3
   },
   "file_extension": ".py",
   "mimetype": "text/x-python",
   "name": "python",
   "nbconvert_exporter": "python",
   "pygments_lexer": "ipython3",
   "version": "3.7.7"
  }
 },
 "nbformat": 4,
 "nbformat_minor": 4
}
