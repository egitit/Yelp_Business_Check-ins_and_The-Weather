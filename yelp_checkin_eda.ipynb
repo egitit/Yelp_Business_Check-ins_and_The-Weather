{
 "cells": [
  {
   "cell_type": "markdown",
   "metadata": {},
   "source": [
    "<center> Imports <center>"
   ]
  },
  {
   "cell_type": "markdown",
   "metadata": {},
   "source": [
    "<center> Null Hypothesis: The weather does not affect the amount of checkins <center> <br/>\n",
    "<center> Alternate Hypothesis: The weather does affect the amount of checkins <center>"
   ]
  },
  {
   "cell_type": "code",
   "execution_count": 1,
   "metadata": {},
   "outputs": [],
   "source": [
    "import pandas as pd\n",
    "import matplotlib.pyplot as plt\n",
    "%matplotlib inline\n",
    "import seaborn as sns\n",
    "sns.set()\n",
    "import numpy as np\n",
    "import scipy as stats"
   ]
  },
  {
   "cell_type": "markdown",
   "metadata": {},
   "source": [
    " <center> Import check_in data from Yelp dataset <center>"
   ]
  },
  {
   "cell_type": "code",
   "execution_count": 2,
   "metadata": {},
   "outputs": [],
   "source": [
    "file = '/Users/Lisa/Downloads/yelp_dataset/yelp_academic_dataset_checkin.json'"
   ]
  },
  {
   "cell_type": "code",
   "execution_count": 3,
   "metadata": {},
   "outputs": [],
   "source": [
    "checkins = pd.read_json(file, lines=True)"
   ]
  },
  {
   "cell_type": "code",
   "execution_count": 4,
   "metadata": {
    "scrolled": true
   },
   "outputs": [
    {
     "data": {
      "text/html": [
       "<div>\n",
       "<style scoped>\n",
       "    .dataframe tbody tr th:only-of-type {\n",
       "        vertical-align: middle;\n",
       "    }\n",
       "\n",
       "    .dataframe tbody tr th {\n",
       "        vertical-align: top;\n",
       "    }\n",
       "\n",
       "    .dataframe thead th {\n",
       "        text-align: right;\n",
       "    }\n",
       "</style>\n",
       "<table border=\"1\" class=\"dataframe\">\n",
       "  <thead>\n",
       "    <tr style=\"text-align: right;\">\n",
       "      <th></th>\n",
       "      <th>business_id</th>\n",
       "      <th>date</th>\n",
       "    </tr>\n",
       "  </thead>\n",
       "  <tbody>\n",
       "    <tr>\n",
       "      <th>0</th>\n",
       "      <td>--1UhMGODdWsrMastO9DZw</td>\n",
       "      <td>2016-04-26 19:49:16, 2016-08-30 18:36:57, 2016...</td>\n",
       "    </tr>\n",
       "    <tr>\n",
       "      <th>1</th>\n",
       "      <td>--6MefnULPED_I942VcFNA</td>\n",
       "      <td>2011-06-04 18:22:23, 2011-07-23 23:51:33, 2012...</td>\n",
       "    </tr>\n",
       "    <tr>\n",
       "      <th>2</th>\n",
       "      <td>--7zmmkVg-IMGaXbuVd0SQ</td>\n",
       "      <td>2014-12-29 19:25:50, 2015-01-17 01:49:14, 2015...</td>\n",
       "    </tr>\n",
       "    <tr>\n",
       "      <th>3</th>\n",
       "      <td>--8LPVSo5i0Oo61X01sV9A</td>\n",
       "      <td>2016-07-08 16:43:30</td>\n",
       "    </tr>\n",
       "    <tr>\n",
       "      <th>4</th>\n",
       "      <td>--9QQLMTbFzLJ_oT-ON3Xw</td>\n",
       "      <td>2010-06-26 17:39:07, 2010-08-01 20:06:21, 2010...</td>\n",
       "    </tr>\n",
       "    <tr>\n",
       "      <th>...</th>\n",
       "      <td>...</td>\n",
       "      <td>...</td>\n",
       "    </tr>\n",
       "    <tr>\n",
       "      <th>175182</th>\n",
       "      <td>zzvlwkcNR1CCqOPXwuvz2A</td>\n",
       "      <td>2017-05-06 20:05:15, 2017-05-12 22:37:03, 2017...</td>\n",
       "    </tr>\n",
       "    <tr>\n",
       "      <th>175183</th>\n",
       "      <td>zzwaS0xn1MVEPEf0hNLjew</td>\n",
       "      <td>2010-02-16 02:09:56, 2010-07-05 05:40:48, 2010...</td>\n",
       "    </tr>\n",
       "    <tr>\n",
       "      <th>175184</th>\n",
       "      <td>zzwhN7x37nyjP0ZM8oiHmw</td>\n",
       "      <td>2016-03-06 13:27:02, 2016-03-09 00:41:53, 2016...</td>\n",
       "    </tr>\n",
       "    <tr>\n",
       "      <th>175185</th>\n",
       "      <td>zzwicjPC9g246MK2M1ZFBA</td>\n",
       "      <td>2012-09-22 00:26:15, 2012-09-23 20:12:00, 2012...</td>\n",
       "    </tr>\n",
       "    <tr>\n",
       "      <th>175186</th>\n",
       "      <td>zzzaIBwimxVej4tY6qFOUQ</td>\n",
       "      <td>2012-10-12 16:26:35, 2012-10-19 19:31:14, 2012...</td>\n",
       "    </tr>\n",
       "  </tbody>\n",
       "</table>\n",
       "<p>175187 rows × 2 columns</p>\n",
       "</div>"
      ],
      "text/plain": [
       "                   business_id  \\\n",
       "0       --1UhMGODdWsrMastO9DZw   \n",
       "1       --6MefnULPED_I942VcFNA   \n",
       "2       --7zmmkVg-IMGaXbuVd0SQ   \n",
       "3       --8LPVSo5i0Oo61X01sV9A   \n",
       "4       --9QQLMTbFzLJ_oT-ON3Xw   \n",
       "...                        ...   \n",
       "175182  zzvlwkcNR1CCqOPXwuvz2A   \n",
       "175183  zzwaS0xn1MVEPEf0hNLjew   \n",
       "175184  zzwhN7x37nyjP0ZM8oiHmw   \n",
       "175185  zzwicjPC9g246MK2M1ZFBA   \n",
       "175186  zzzaIBwimxVej4tY6qFOUQ   \n",
       "\n",
       "                                                     date  \n",
       "0       2016-04-26 19:49:16, 2016-08-30 18:36:57, 2016...  \n",
       "1       2011-06-04 18:22:23, 2011-07-23 23:51:33, 2012...  \n",
       "2       2014-12-29 19:25:50, 2015-01-17 01:49:14, 2015...  \n",
       "3                                     2016-07-08 16:43:30  \n",
       "4       2010-06-26 17:39:07, 2010-08-01 20:06:21, 2010...  \n",
       "...                                                   ...  \n",
       "175182  2017-05-06 20:05:15, 2017-05-12 22:37:03, 2017...  \n",
       "175183  2010-02-16 02:09:56, 2010-07-05 05:40:48, 2010...  \n",
       "175184  2016-03-06 13:27:02, 2016-03-09 00:41:53, 2016...  \n",
       "175185  2012-09-22 00:26:15, 2012-09-23 20:12:00, 2012...  \n",
       "175186  2012-10-12 16:26:35, 2012-10-19 19:31:14, 2012...  \n",
       "\n",
       "[175187 rows x 2 columns]"
      ]
     },
     "execution_count": 4,
     "metadata": {},
     "output_type": "execute_result"
    }
   ],
   "source": [
    "checkins"
   ]
  },
  {
   "cell_type": "markdown",
   "metadata": {},
   "source": [
    " <center> Since the date column is a long string I'll need to change it to a list in order to leverage date/time for future graphing <center>"
   ]
  },
  {
   "cell_type": "code",
   "execution_count": 5,
   "metadata": {},
   "outputs": [],
   "source": [
    "checkins['date'] = checkins['date'].apply(lambda x: x.split(\",\"))"
   ]
  },
  {
   "cell_type": "markdown",
   "metadata": {},
   "source": [
    " <center> Leverage dataframe.explode('column_name') to break the list of check-in's down <center>"
   ]
  },
  {
   "cell_type": "code",
   "execution_count": 6,
   "metadata": {
    "scrolled": true
   },
   "outputs": [],
   "source": [
    "checkins_broken_down = checkins.explode('date')"
   ]
  },
  {
   "cell_type": "markdown",
   "metadata": {},
   "source": [
    " <center> From my EDA is seems like each business has a unique business_id which gives a breakdown of the dates people checked in to these businesses. I can use that to compare against the weather for those dates. <br/> Now Identify the locations with enough data points to scrap weather data for <center>"
   ]
  },
  {
   "cell_type": "markdown",
   "metadata": {},
   "source": [
    " <center> Import Business data from Yelp dataset <center>"
   ]
  },
  {
   "cell_type": "code",
   "execution_count": 7,
   "metadata": {},
   "outputs": [],
   "source": [
    "file2 = '/Users/Lisa/Downloads/yelp_dataset/yelp_academic_dataset_business.json'"
   ]
  },
  {
   "cell_type": "code",
   "execution_count": 8,
   "metadata": {},
   "outputs": [],
   "source": [
    "businesses = pd.read_json(file2, lines=True)"
   ]
  },
  {
   "cell_type": "markdown",
   "metadata": {},
   "source": [
    " <center> Clean up businesses dataframe and elimnate unnecessary columns since its not data I need to focus on <center>"
   ]
  },
  {
   "cell_type": "code",
   "execution_count": 9,
   "metadata": {
    "scrolled": true
   },
   "outputs": [],
   "source": [
    "businesses = businesses.drop(['hours', 'categories', 'attributes', 'longitude', 'latitude', 'stars', 'is_open', 'address', 'postal_code', 'review_count'], axis=1)"
   ]
  },
  {
   "cell_type": "markdown",
   "metadata": {},
   "source": [
    " <center> Idnetify a State with enough data points to work with (since there's a lot of entries) <center>"
   ]
  },
  {
   "cell_type": "code",
   "execution_count": 10,
   "metadata": {},
   "outputs": [
    {
     "data": {
      "text/html": [
       "<div>\n",
       "<style scoped>\n",
       "    .dataframe tbody tr th:only-of-type {\n",
       "        vertical-align: middle;\n",
       "    }\n",
       "\n",
       "    .dataframe tbody tr th {\n",
       "        vertical-align: top;\n",
       "    }\n",
       "\n",
       "    .dataframe thead th {\n",
       "        text-align: right;\n",
       "    }\n",
       "</style>\n",
       "<table border=\"1\" class=\"dataframe\">\n",
       "  <thead>\n",
       "    <tr style=\"text-align: right;\">\n",
       "      <th></th>\n",
       "      <th>business_id</th>\n",
       "      <th>name</th>\n",
       "      <th>city</th>\n",
       "    </tr>\n",
       "    <tr>\n",
       "      <th>state</th>\n",
       "      <th></th>\n",
       "      <th></th>\n",
       "      <th></th>\n",
       "    </tr>\n",
       "  </thead>\n",
       "  <tbody>\n",
       "    <tr>\n",
       "      <th>AB</th>\n",
       "      <td>8682</td>\n",
       "      <td>8682</td>\n",
       "      <td>8682</td>\n",
       "    </tr>\n",
       "    <tr>\n",
       "      <th>AK</th>\n",
       "      <td>1</td>\n",
       "      <td>1</td>\n",
       "      <td>1</td>\n",
       "    </tr>\n",
       "    <tr>\n",
       "      <th>AL</th>\n",
       "      <td>3</td>\n",
       "      <td>3</td>\n",
       "      <td>3</td>\n",
       "    </tr>\n",
       "    <tr>\n",
       "      <th>AR</th>\n",
       "      <td>1</td>\n",
       "      <td>1</td>\n",
       "      <td>1</td>\n",
       "    </tr>\n",
       "    <tr>\n",
       "      <th>AZ</th>\n",
       "      <td>60803</td>\n",
       "      <td>60803</td>\n",
       "      <td>60803</td>\n",
       "    </tr>\n",
       "    <tr>\n",
       "      <th>BC</th>\n",
       "      <td>2</td>\n",
       "      <td>2</td>\n",
       "      <td>2</td>\n",
       "    </tr>\n",
       "    <tr>\n",
       "      <th>CA</th>\n",
       "      <td>23</td>\n",
       "      <td>23</td>\n",
       "      <td>23</td>\n",
       "    </tr>\n",
       "    <tr>\n",
       "      <th>CO</th>\n",
       "      <td>2</td>\n",
       "      <td>2</td>\n",
       "      <td>2</td>\n",
       "    </tr>\n",
       "    <tr>\n",
       "      <th>CT</th>\n",
       "      <td>2</td>\n",
       "      <td>2</td>\n",
       "      <td>2</td>\n",
       "    </tr>\n",
       "    <tr>\n",
       "      <th>DOW</th>\n",
       "      <td>1</td>\n",
       "      <td>1</td>\n",
       "      <td>1</td>\n",
       "    </tr>\n",
       "    <tr>\n",
       "      <th>DUR</th>\n",
       "      <td>1</td>\n",
       "      <td>1</td>\n",
       "      <td>1</td>\n",
       "    </tr>\n",
       "    <tr>\n",
       "      <th>FL</th>\n",
       "      <td>3</td>\n",
       "      <td>3</td>\n",
       "      <td>3</td>\n",
       "    </tr>\n",
       "    <tr>\n",
       "      <th>GA</th>\n",
       "      <td>3</td>\n",
       "      <td>3</td>\n",
       "      <td>3</td>\n",
       "    </tr>\n",
       "    <tr>\n",
       "      <th>HI</th>\n",
       "      <td>1</td>\n",
       "      <td>1</td>\n",
       "      <td>1</td>\n",
       "    </tr>\n",
       "    <tr>\n",
       "      <th>HPL</th>\n",
       "      <td>1</td>\n",
       "      <td>1</td>\n",
       "      <td>1</td>\n",
       "    </tr>\n",
       "    <tr>\n",
       "      <th>IL</th>\n",
       "      <td>2034</td>\n",
       "      <td>2034</td>\n",
       "      <td>2034</td>\n",
       "    </tr>\n",
       "    <tr>\n",
       "      <th>MB</th>\n",
       "      <td>1</td>\n",
       "      <td>1</td>\n",
       "      <td>1</td>\n",
       "    </tr>\n",
       "    <tr>\n",
       "      <th>MI</th>\n",
       "      <td>2</td>\n",
       "      <td>2</td>\n",
       "      <td>2</td>\n",
       "    </tr>\n",
       "    <tr>\n",
       "      <th>MO</th>\n",
       "      <td>1</td>\n",
       "      <td>1</td>\n",
       "      <td>1</td>\n",
       "    </tr>\n",
       "    <tr>\n",
       "      <th>NC</th>\n",
       "      <td>16218</td>\n",
       "      <td>16218</td>\n",
       "      <td>16218</td>\n",
       "    </tr>\n",
       "    <tr>\n",
       "      <th>NE</th>\n",
       "      <td>2</td>\n",
       "      <td>2</td>\n",
       "      <td>2</td>\n",
       "    </tr>\n",
       "    <tr>\n",
       "      <th>NV</th>\n",
       "      <td>39084</td>\n",
       "      <td>39084</td>\n",
       "      <td>39084</td>\n",
       "    </tr>\n",
       "    <tr>\n",
       "      <th>NY</th>\n",
       "      <td>22</td>\n",
       "      <td>22</td>\n",
       "      <td>22</td>\n",
       "    </tr>\n",
       "    <tr>\n",
       "      <th>OH</th>\n",
       "      <td>16392</td>\n",
       "      <td>16392</td>\n",
       "      <td>16392</td>\n",
       "    </tr>\n",
       "    <tr>\n",
       "      <th>ON</th>\n",
       "      <td>36627</td>\n",
       "      <td>36627</td>\n",
       "      <td>36627</td>\n",
       "    </tr>\n",
       "    <tr>\n",
       "      <th>OR</th>\n",
       "      <td>1</td>\n",
       "      <td>1</td>\n",
       "      <td>1</td>\n",
       "    </tr>\n",
       "    <tr>\n",
       "      <th>PA</th>\n",
       "      <td>12376</td>\n",
       "      <td>12376</td>\n",
       "      <td>12376</td>\n",
       "    </tr>\n",
       "    <tr>\n",
       "      <th>QC</th>\n",
       "      <td>10233</td>\n",
       "      <td>10233</td>\n",
       "      <td>10233</td>\n",
       "    </tr>\n",
       "    <tr>\n",
       "      <th>SC</th>\n",
       "      <td>1328</td>\n",
       "      <td>1328</td>\n",
       "      <td>1328</td>\n",
       "    </tr>\n",
       "    <tr>\n",
       "      <th>TX</th>\n",
       "      <td>6</td>\n",
       "      <td>6</td>\n",
       "      <td>6</td>\n",
       "    </tr>\n",
       "    <tr>\n",
       "      <th>UT</th>\n",
       "      <td>2</td>\n",
       "      <td>2</td>\n",
       "      <td>2</td>\n",
       "    </tr>\n",
       "    <tr>\n",
       "      <th>VA</th>\n",
       "      <td>1</td>\n",
       "      <td>1</td>\n",
       "      <td>1</td>\n",
       "    </tr>\n",
       "    <tr>\n",
       "      <th>VT</th>\n",
       "      <td>2</td>\n",
       "      <td>2</td>\n",
       "      <td>2</td>\n",
       "    </tr>\n",
       "    <tr>\n",
       "      <th>WA</th>\n",
       "      <td>5</td>\n",
       "      <td>5</td>\n",
       "      <td>5</td>\n",
       "    </tr>\n",
       "    <tr>\n",
       "      <th>WI</th>\n",
       "      <td>5525</td>\n",
       "      <td>5525</td>\n",
       "      <td>5525</td>\n",
       "    </tr>\n",
       "    <tr>\n",
       "      <th>XWY</th>\n",
       "      <td>1</td>\n",
       "      <td>1</td>\n",
       "      <td>1</td>\n",
       "    </tr>\n",
       "    <tr>\n",
       "      <th>YT</th>\n",
       "      <td>1</td>\n",
       "      <td>1</td>\n",
       "      <td>1</td>\n",
       "    </tr>\n",
       "  </tbody>\n",
       "</table>\n",
       "</div>"
      ],
      "text/plain": [
       "       business_id   name   city\n",
       "state                           \n",
       "AB            8682   8682   8682\n",
       "AK               1      1      1\n",
       "AL               3      3      3\n",
       "AR               1      1      1\n",
       "AZ           60803  60803  60803\n",
       "BC               2      2      2\n",
       "CA              23     23     23\n",
       "CO               2      2      2\n",
       "CT               2      2      2\n",
       "DOW              1      1      1\n",
       "DUR              1      1      1\n",
       "FL               3      3      3\n",
       "GA               3      3      3\n",
       "HI               1      1      1\n",
       "HPL              1      1      1\n",
       "IL            2034   2034   2034\n",
       "MB               1      1      1\n",
       "MI               2      2      2\n",
       "MO               1      1      1\n",
       "NC           16218  16218  16218\n",
       "NE               2      2      2\n",
       "NV           39084  39084  39084\n",
       "NY              22     22     22\n",
       "OH           16392  16392  16392\n",
       "ON           36627  36627  36627\n",
       "OR               1      1      1\n",
       "PA           12376  12376  12376\n",
       "QC           10233  10233  10233\n",
       "SC            1328   1328   1328\n",
       "TX               6      6      6\n",
       "UT               2      2      2\n",
       "VA               1      1      1\n",
       "VT               2      2      2\n",
       "WA               5      5      5\n",
       "WI            5525   5525   5525\n",
       "XWY              1      1      1\n",
       "YT               1      1      1"
      ]
     },
     "execution_count": 10,
     "metadata": {},
     "output_type": "execute_result"
    }
   ],
   "source": [
    "businesses.groupby('state').count()"
   ]
  },
  {
   "cell_type": "markdown",
   "metadata": {},
   "source": [
    "<center>It seems like Arizona has the most amount of Yelp Activity <br/> Determine which city to focus on in AZ. <br/> Groupby and sort the counted data<center>"
   ]
  },
  {
   "cell_type": "code",
   "execution_count": 11,
   "metadata": {},
   "outputs": [],
   "source": [
    "AZ = businesses.loc[businesses['state'] == 'AZ'].groupby('city').count()"
   ]
  },
  {
   "cell_type": "markdown",
   "metadata": {},
   "source": [
    "<center>Take the grouped data and sort it<center>"
   ]
  },
  {
   "cell_type": "code",
   "execution_count": 12,
   "metadata": {},
   "outputs": [
    {
     "data": {
      "text/html": [
       "<div>\n",
       "<style scoped>\n",
       "    .dataframe tbody tr th:only-of-type {\n",
       "        vertical-align: middle;\n",
       "    }\n",
       "\n",
       "    .dataframe tbody tr th {\n",
       "        vertical-align: top;\n",
       "    }\n",
       "\n",
       "    .dataframe thead th {\n",
       "        text-align: right;\n",
       "    }\n",
       "</style>\n",
       "<table border=\"1\" class=\"dataframe\">\n",
       "  <thead>\n",
       "    <tr style=\"text-align: right;\">\n",
       "      <th></th>\n",
       "      <th>business_id</th>\n",
       "      <th>name</th>\n",
       "      <th>state</th>\n",
       "    </tr>\n",
       "    <tr>\n",
       "      <th>city</th>\n",
       "      <th></th>\n",
       "      <th></th>\n",
       "      <th></th>\n",
       "    </tr>\n",
       "  </thead>\n",
       "  <tbody>\n",
       "    <tr>\n",
       "      <th>Phoenix</th>\n",
       "      <td>20170</td>\n",
       "      <td>20170</td>\n",
       "      <td>20170</td>\n",
       "    </tr>\n",
       "    <tr>\n",
       "      <th>Scottsdale</th>\n",
       "      <td>9341</td>\n",
       "      <td>9341</td>\n",
       "      <td>9341</td>\n",
       "    </tr>\n",
       "    <tr>\n",
       "      <th>Mesa</th>\n",
       "      <td>6577</td>\n",
       "      <td>6577</td>\n",
       "      <td>6577</td>\n",
       "    </tr>\n",
       "    <tr>\n",
       "      <th>Tempe</th>\n",
       "      <td>4797</td>\n",
       "      <td>4797</td>\n",
       "      <td>4797</td>\n",
       "    </tr>\n",
       "    <tr>\n",
       "      <th>Chandler</th>\n",
       "      <td>4579</td>\n",
       "      <td>4579</td>\n",
       "      <td>4579</td>\n",
       "    </tr>\n",
       "    <tr>\n",
       "      <th>...</th>\n",
       "      <td>...</td>\n",
       "      <td>...</td>\n",
       "      <td>...</td>\n",
       "    </tr>\n",
       "    <tr>\n",
       "      <th>Mesa Az</th>\n",
       "      <td>1</td>\n",
       "      <td>1</td>\n",
       "      <td>1</td>\n",
       "    </tr>\n",
       "    <tr>\n",
       "      <th>Mesa Arizona</th>\n",
       "      <td>1</td>\n",
       "      <td>1</td>\n",
       "      <td>1</td>\n",
       "    </tr>\n",
       "    <tr>\n",
       "      <th>Mes</th>\n",
       "      <td>1</td>\n",
       "      <td>1</td>\n",
       "      <td>1</td>\n",
       "    </tr>\n",
       "    <tr>\n",
       "      <th>Litchfield park</th>\n",
       "      <td>1</td>\n",
       "      <td>1</td>\n",
       "      <td>1</td>\n",
       "    </tr>\n",
       "    <tr>\n",
       "      <th>​Gilbert</th>\n",
       "      <td>1</td>\n",
       "      <td>1</td>\n",
       "      <td>1</td>\n",
       "    </tr>\n",
       "  </tbody>\n",
       "</table>\n",
       "<p>140 rows × 3 columns</p>\n",
       "</div>"
      ],
      "text/plain": [
       "                 business_id   name  state\n",
       "city                                      \n",
       "Phoenix                20170  20170  20170\n",
       "Scottsdale              9341   9341   9341\n",
       "Mesa                    6577   6577   6577\n",
       "Tempe                   4797   4797   4797\n",
       "Chandler                4579   4579   4579\n",
       "...                      ...    ...    ...\n",
       "Mesa Az                    1      1      1\n",
       "Mesa Arizona               1      1      1\n",
       "Mes                        1      1      1\n",
       "Litchfield park            1      1      1\n",
       "​Gilbert                   1      1      1\n",
       "\n",
       "[140 rows x 3 columns]"
      ]
     },
     "execution_count": 12,
     "metadata": {},
     "output_type": "execute_result"
    }
   ],
   "source": [
    "AZ.sort_values('state', ascending=False)"
   ]
  },
  {
   "cell_type": "markdown",
   "metadata": {},
   "source": [
    " <center> Through EDA, it seems like Phoenix has the greatest activity to measure against weather. Will focus on Yelp check-in's there<center>"
   ]
  },
  {
   "cell_type": "markdown",
   "metadata": {},
   "source": [
    " <center> Pull Pheonix, AZ from the businesses dataframe <center>"
   ]
  },
  {
   "cell_type": "code",
   "execution_count": 13,
   "metadata": {},
   "outputs": [],
   "source": [
    "phx_az_biz = businesses.loc[(businesses['city']=='Phoenix') & (businesses['state']=='AZ')]"
   ]
  },
  {
   "cell_type": "markdown",
   "metadata": {},
   "source": [
    " <center> Merge Phoenix, AZ dataframe to checkins_broken_down <center>"
   ]
  },
  {
   "cell_type": "code",
   "execution_count": 14,
   "metadata": {},
   "outputs": [],
   "source": [
    "phx_checkins = phx_az_biz.merge(checkins_broken_down, how='left', on='business_id')"
   ]
  },
  {
   "cell_type": "markdown",
   "metadata": {},
   "source": [
    " <center> get date/time to a workable data type (not a string!) <center>"
   ]
  },
  {
   "cell_type": "markdown",
   "metadata": {},
   "source": [
    "<center> Example: data[\"Date\"]= pd.to_datetime(data[\"Date\"]) <center>"
   ]
  },
  {
   "cell_type": "code",
   "execution_count": 15,
   "metadata": {},
   "outputs": [],
   "source": [
    "phx_checkins['date'] = pd.to_datetime(phx_checkins['date'])"
   ]
  },
  {
   "cell_type": "code",
   "execution_count": 16,
   "metadata": {},
   "outputs": [],
   "source": [
    "phx_checkins['date2.0'] = phx_checkins['date'].dt.date"
   ]
  },
  {
   "cell_type": "code",
   "execution_count": 17,
   "metadata": {},
   "outputs": [],
   "source": [
    "phx_checkins = phx_checkins.drop('date', axis=1)"
   ]
  },
  {
   "cell_type": "markdown",
   "metadata": {},
   "source": [
    " <center> Groupby and count dates <center>"
   ]
  },
  {
   "cell_type": "markdown",
   "metadata": {},
   "source": [
    " <center> Break up phx_checkins by years <center>"
   ]
  },
  {
   "cell_type": "code",
   "execution_count": 18,
   "metadata": {},
   "outputs": [
    {
     "data": {
      "text/html": [
       "<div>\n",
       "<style scoped>\n",
       "    .dataframe tbody tr th:only-of-type {\n",
       "        vertical-align: middle;\n",
       "    }\n",
       "\n",
       "    .dataframe tbody tr th {\n",
       "        vertical-align: top;\n",
       "    }\n",
       "\n",
       "    .dataframe thead th {\n",
       "        text-align: right;\n",
       "    }\n",
       "</style>\n",
       "<table border=\"1\" class=\"dataframe\">\n",
       "  <thead>\n",
       "    <tr style=\"text-align: right;\">\n",
       "      <th></th>\n",
       "      <th>business_id</th>\n",
       "      <th>name</th>\n",
       "      <th>city</th>\n",
       "      <th>state</th>\n",
       "      <th>date2.0</th>\n",
       "    </tr>\n",
       "  </thead>\n",
       "  <tbody>\n",
       "    <tr>\n",
       "      <th>0</th>\n",
       "      <td>07cgbTbANYhVDfzTMOkB9w</td>\n",
       "      <td>Frontier Automotive</td>\n",
       "      <td>Phoenix</td>\n",
       "      <td>AZ</td>\n",
       "      <td>2010-08-17</td>\n",
       "    </tr>\n",
       "    <tr>\n",
       "      <th>1</th>\n",
       "      <td>07cgbTbANYhVDfzTMOkB9w</td>\n",
       "      <td>Frontier Automotive</td>\n",
       "      <td>Phoenix</td>\n",
       "      <td>AZ</td>\n",
       "      <td>2011-07-08</td>\n",
       "    </tr>\n",
       "    <tr>\n",
       "      <th>2</th>\n",
       "      <td>07cgbTbANYhVDfzTMOkB9w</td>\n",
       "      <td>Frontier Automotive</td>\n",
       "      <td>Phoenix</td>\n",
       "      <td>AZ</td>\n",
       "      <td>2011-08-08</td>\n",
       "    </tr>\n",
       "    <tr>\n",
       "      <th>3</th>\n",
       "      <td>07cgbTbANYhVDfzTMOkB9w</td>\n",
       "      <td>Frontier Automotive</td>\n",
       "      <td>Phoenix</td>\n",
       "      <td>AZ</td>\n",
       "      <td>2011-08-09</td>\n",
       "    </tr>\n",
       "    <tr>\n",
       "      <th>4</th>\n",
       "      <td>07cgbTbANYhVDfzTMOkB9w</td>\n",
       "      <td>Frontier Automotive</td>\n",
       "      <td>Phoenix</td>\n",
       "      <td>AZ</td>\n",
       "      <td>2011-08-21</td>\n",
       "    </tr>\n",
       "    <tr>\n",
       "      <th>...</th>\n",
       "      <td>...</td>\n",
       "      <td>...</td>\n",
       "      <td>...</td>\n",
       "      <td>...</td>\n",
       "      <td>...</td>\n",
       "    </tr>\n",
       "    <tr>\n",
       "      <th>2433944</th>\n",
       "      <td>YZeUH6zYS0dq5QHLYZhUnQ</td>\n",
       "      <td>Hooters</td>\n",
       "      <td>Phoenix</td>\n",
       "      <td>AZ</td>\n",
       "      <td>2019-05-03</td>\n",
       "    </tr>\n",
       "    <tr>\n",
       "      <th>2433945</th>\n",
       "      <td>YZeUH6zYS0dq5QHLYZhUnQ</td>\n",
       "      <td>Hooters</td>\n",
       "      <td>Phoenix</td>\n",
       "      <td>AZ</td>\n",
       "      <td>2019-07-29</td>\n",
       "    </tr>\n",
       "    <tr>\n",
       "      <th>2433946</th>\n",
       "      <td>YZeUH6zYS0dq5QHLYZhUnQ</td>\n",
       "      <td>Hooters</td>\n",
       "      <td>Phoenix</td>\n",
       "      <td>AZ</td>\n",
       "      <td>2019-08-04</td>\n",
       "    </tr>\n",
       "    <tr>\n",
       "      <th>2433947</th>\n",
       "      <td>YZeUH6zYS0dq5QHLYZhUnQ</td>\n",
       "      <td>Hooters</td>\n",
       "      <td>Phoenix</td>\n",
       "      <td>AZ</td>\n",
       "      <td>2019-08-07</td>\n",
       "    </tr>\n",
       "    <tr>\n",
       "      <th>2433948</th>\n",
       "      <td>YZeUH6zYS0dq5QHLYZhUnQ</td>\n",
       "      <td>Hooters</td>\n",
       "      <td>Phoenix</td>\n",
       "      <td>AZ</td>\n",
       "      <td>2019-08-17</td>\n",
       "    </tr>\n",
       "  </tbody>\n",
       "</table>\n",
       "<p>2433949 rows × 5 columns</p>\n",
       "</div>"
      ],
      "text/plain": [
       "                    business_id                 name     city state  \\\n",
       "0        07cgbTbANYhVDfzTMOkB9w  Frontier Automotive  Phoenix    AZ   \n",
       "1        07cgbTbANYhVDfzTMOkB9w  Frontier Automotive  Phoenix    AZ   \n",
       "2        07cgbTbANYhVDfzTMOkB9w  Frontier Automotive  Phoenix    AZ   \n",
       "3        07cgbTbANYhVDfzTMOkB9w  Frontier Automotive  Phoenix    AZ   \n",
       "4        07cgbTbANYhVDfzTMOkB9w  Frontier Automotive  Phoenix    AZ   \n",
       "...                         ...                  ...      ...   ...   \n",
       "2433944  YZeUH6zYS0dq5QHLYZhUnQ              Hooters  Phoenix    AZ   \n",
       "2433945  YZeUH6zYS0dq5QHLYZhUnQ              Hooters  Phoenix    AZ   \n",
       "2433946  YZeUH6zYS0dq5QHLYZhUnQ              Hooters  Phoenix    AZ   \n",
       "2433947  YZeUH6zYS0dq5QHLYZhUnQ              Hooters  Phoenix    AZ   \n",
       "2433948  YZeUH6zYS0dq5QHLYZhUnQ              Hooters  Phoenix    AZ   \n",
       "\n",
       "            date2.0  \n",
       "0        2010-08-17  \n",
       "1        2011-07-08  \n",
       "2        2011-08-08  \n",
       "3        2011-08-09  \n",
       "4        2011-08-21  \n",
       "...             ...  \n",
       "2433944  2019-05-03  \n",
       "2433945  2019-07-29  \n",
       "2433946  2019-08-04  \n",
       "2433947  2019-08-07  \n",
       "2433948  2019-08-17  \n",
       "\n",
       "[2433949 rows x 5 columns]"
      ]
     },
     "execution_count": 18,
     "metadata": {},
     "output_type": "execute_result"
    }
   ],
   "source": [
    "phx_checkins"
   ]
  },
  {
   "cell_type": "code",
   "execution_count": 19,
   "metadata": {},
   "outputs": [
    {
     "name": "stdout",
     "output_type": "stream",
     "text": [
      "8\n",
      "17\n",
      "2010\n"
     ]
    }
   ],
   "source": [
    "# check to see how to access date/time\n",
    "print(phx_checkins.iloc[0,4].month)\n",
    "print(phx_checkins.iloc[0,4].day)\n",
    "print(phx_checkins.iloc[0,4].year)"
   ]
  },
  {
   "cell_type": "code",
   "execution_count": 20,
   "metadata": {},
   "outputs": [],
   "source": [
    "# new columns for month, date, year\n",
    "phx_checkins['Month'] = phx_checkins['date2.0'].apply(lambda x: x.month)"
   ]
  },
  {
   "cell_type": "code",
   "execution_count": 21,
   "metadata": {},
   "outputs": [],
   "source": [
    "phx_checkins['Day'] = phx_checkins['date2.0'].apply(lambda x: x.day)"
   ]
  },
  {
   "cell_type": "code",
   "execution_count": 22,
   "metadata": {},
   "outputs": [],
   "source": [
    "phx_checkins['Year'] = phx_checkins['date2.0'].apply(lambda x: x.year)"
   ]
  },
  {
   "cell_type": "code",
   "execution_count": 23,
   "metadata": {},
   "outputs": [
    {
     "data": {
      "text/html": [
       "<div>\n",
       "<style scoped>\n",
       "    .dataframe tbody tr th:only-of-type {\n",
       "        vertical-align: middle;\n",
       "    }\n",
       "\n",
       "    .dataframe tbody tr th {\n",
       "        vertical-align: top;\n",
       "    }\n",
       "\n",
       "    .dataframe thead th {\n",
       "        text-align: right;\n",
       "    }\n",
       "</style>\n",
       "<table border=\"1\" class=\"dataframe\">\n",
       "  <thead>\n",
       "    <tr style=\"text-align: right;\">\n",
       "      <th></th>\n",
       "      <th>business_id</th>\n",
       "      <th>name</th>\n",
       "      <th>city</th>\n",
       "      <th>state</th>\n",
       "      <th>date2.0</th>\n",
       "      <th>Month</th>\n",
       "      <th>Day</th>\n",
       "      <th>Year</th>\n",
       "    </tr>\n",
       "  </thead>\n",
       "  <tbody>\n",
       "    <tr>\n",
       "      <th>0</th>\n",
       "      <td>07cgbTbANYhVDfzTMOkB9w</td>\n",
       "      <td>Frontier Automotive</td>\n",
       "      <td>Phoenix</td>\n",
       "      <td>AZ</td>\n",
       "      <td>2010-08-17</td>\n",
       "      <td>8.0</td>\n",
       "      <td>17.0</td>\n",
       "      <td>2010.0</td>\n",
       "    </tr>\n",
       "    <tr>\n",
       "      <th>1</th>\n",
       "      <td>07cgbTbANYhVDfzTMOkB9w</td>\n",
       "      <td>Frontier Automotive</td>\n",
       "      <td>Phoenix</td>\n",
       "      <td>AZ</td>\n",
       "      <td>2011-07-08</td>\n",
       "      <td>7.0</td>\n",
       "      <td>8.0</td>\n",
       "      <td>2011.0</td>\n",
       "    </tr>\n",
       "    <tr>\n",
       "      <th>2</th>\n",
       "      <td>07cgbTbANYhVDfzTMOkB9w</td>\n",
       "      <td>Frontier Automotive</td>\n",
       "      <td>Phoenix</td>\n",
       "      <td>AZ</td>\n",
       "      <td>2011-08-08</td>\n",
       "      <td>8.0</td>\n",
       "      <td>8.0</td>\n",
       "      <td>2011.0</td>\n",
       "    </tr>\n",
       "    <tr>\n",
       "      <th>3</th>\n",
       "      <td>07cgbTbANYhVDfzTMOkB9w</td>\n",
       "      <td>Frontier Automotive</td>\n",
       "      <td>Phoenix</td>\n",
       "      <td>AZ</td>\n",
       "      <td>2011-08-09</td>\n",
       "      <td>8.0</td>\n",
       "      <td>9.0</td>\n",
       "      <td>2011.0</td>\n",
       "    </tr>\n",
       "    <tr>\n",
       "      <th>4</th>\n",
       "      <td>07cgbTbANYhVDfzTMOkB9w</td>\n",
       "      <td>Frontier Automotive</td>\n",
       "      <td>Phoenix</td>\n",
       "      <td>AZ</td>\n",
       "      <td>2011-08-21</td>\n",
       "      <td>8.0</td>\n",
       "      <td>21.0</td>\n",
       "      <td>2011.0</td>\n",
       "    </tr>\n",
       "    <tr>\n",
       "      <th>...</th>\n",
       "      <td>...</td>\n",
       "      <td>...</td>\n",
       "      <td>...</td>\n",
       "      <td>...</td>\n",
       "      <td>...</td>\n",
       "      <td>...</td>\n",
       "      <td>...</td>\n",
       "      <td>...</td>\n",
       "    </tr>\n",
       "    <tr>\n",
       "      <th>2433944</th>\n",
       "      <td>YZeUH6zYS0dq5QHLYZhUnQ</td>\n",
       "      <td>Hooters</td>\n",
       "      <td>Phoenix</td>\n",
       "      <td>AZ</td>\n",
       "      <td>2019-05-03</td>\n",
       "      <td>5.0</td>\n",
       "      <td>3.0</td>\n",
       "      <td>2019.0</td>\n",
       "    </tr>\n",
       "    <tr>\n",
       "      <th>2433945</th>\n",
       "      <td>YZeUH6zYS0dq5QHLYZhUnQ</td>\n",
       "      <td>Hooters</td>\n",
       "      <td>Phoenix</td>\n",
       "      <td>AZ</td>\n",
       "      <td>2019-07-29</td>\n",
       "      <td>7.0</td>\n",
       "      <td>29.0</td>\n",
       "      <td>2019.0</td>\n",
       "    </tr>\n",
       "    <tr>\n",
       "      <th>2433946</th>\n",
       "      <td>YZeUH6zYS0dq5QHLYZhUnQ</td>\n",
       "      <td>Hooters</td>\n",
       "      <td>Phoenix</td>\n",
       "      <td>AZ</td>\n",
       "      <td>2019-08-04</td>\n",
       "      <td>8.0</td>\n",
       "      <td>4.0</td>\n",
       "      <td>2019.0</td>\n",
       "    </tr>\n",
       "    <tr>\n",
       "      <th>2433947</th>\n",
       "      <td>YZeUH6zYS0dq5QHLYZhUnQ</td>\n",
       "      <td>Hooters</td>\n",
       "      <td>Phoenix</td>\n",
       "      <td>AZ</td>\n",
       "      <td>2019-08-07</td>\n",
       "      <td>8.0</td>\n",
       "      <td>7.0</td>\n",
       "      <td>2019.0</td>\n",
       "    </tr>\n",
       "    <tr>\n",
       "      <th>2433948</th>\n",
       "      <td>YZeUH6zYS0dq5QHLYZhUnQ</td>\n",
       "      <td>Hooters</td>\n",
       "      <td>Phoenix</td>\n",
       "      <td>AZ</td>\n",
       "      <td>2019-08-17</td>\n",
       "      <td>8.0</td>\n",
       "      <td>17.0</td>\n",
       "      <td>2019.0</td>\n",
       "    </tr>\n",
       "  </tbody>\n",
       "</table>\n",
       "<p>2433949 rows × 8 columns</p>\n",
       "</div>"
      ],
      "text/plain": [
       "                    business_id                 name     city state  \\\n",
       "0        07cgbTbANYhVDfzTMOkB9w  Frontier Automotive  Phoenix    AZ   \n",
       "1        07cgbTbANYhVDfzTMOkB9w  Frontier Automotive  Phoenix    AZ   \n",
       "2        07cgbTbANYhVDfzTMOkB9w  Frontier Automotive  Phoenix    AZ   \n",
       "3        07cgbTbANYhVDfzTMOkB9w  Frontier Automotive  Phoenix    AZ   \n",
       "4        07cgbTbANYhVDfzTMOkB9w  Frontier Automotive  Phoenix    AZ   \n",
       "...                         ...                  ...      ...   ...   \n",
       "2433944  YZeUH6zYS0dq5QHLYZhUnQ              Hooters  Phoenix    AZ   \n",
       "2433945  YZeUH6zYS0dq5QHLYZhUnQ              Hooters  Phoenix    AZ   \n",
       "2433946  YZeUH6zYS0dq5QHLYZhUnQ              Hooters  Phoenix    AZ   \n",
       "2433947  YZeUH6zYS0dq5QHLYZhUnQ              Hooters  Phoenix    AZ   \n",
       "2433948  YZeUH6zYS0dq5QHLYZhUnQ              Hooters  Phoenix    AZ   \n",
       "\n",
       "            date2.0  Month   Day    Year  \n",
       "0        2010-08-17    8.0  17.0  2010.0  \n",
       "1        2011-07-08    7.0   8.0  2011.0  \n",
       "2        2011-08-08    8.0   8.0  2011.0  \n",
       "3        2011-08-09    8.0   9.0  2011.0  \n",
       "4        2011-08-21    8.0  21.0  2011.0  \n",
       "...             ...    ...   ...     ...  \n",
       "2433944  2019-05-03    5.0   3.0  2019.0  \n",
       "2433945  2019-07-29    7.0  29.0  2019.0  \n",
       "2433946  2019-08-04    8.0   4.0  2019.0  \n",
       "2433947  2019-08-07    8.0   7.0  2019.0  \n",
       "2433948  2019-08-17    8.0  17.0  2019.0  \n",
       "\n",
       "[2433949 rows x 8 columns]"
      ]
     },
     "execution_count": 23,
     "metadata": {},
     "output_type": "execute_result"
    }
   ],
   "source": [
    "phx_checkins"
   ]
  },
  {
   "cell_type": "markdown",
   "metadata": {},
   "source": [
    " <center> Get a breakdown by year and the total amount of checkins. Next will be to separate them into years <center>"
   ]
  },
  {
   "cell_type": "code",
   "execution_count": 24,
   "metadata": {},
   "outputs": [
    {
     "data": {
      "text/html": [
       "<div>\n",
       "<style scoped>\n",
       "    .dataframe tbody tr th:only-of-type {\n",
       "        vertical-align: middle;\n",
       "    }\n",
       "\n",
       "    .dataframe tbody tr th {\n",
       "        vertical-align: top;\n",
       "    }\n",
       "\n",
       "    .dataframe thead th {\n",
       "        text-align: right;\n",
       "    }\n",
       "</style>\n",
       "<table border=\"1\" class=\"dataframe\">\n",
       "  <thead>\n",
       "    <tr style=\"text-align: right;\">\n",
       "      <th></th>\n",
       "      <th>business_id</th>\n",
       "      <th>name</th>\n",
       "      <th>city</th>\n",
       "      <th>state</th>\n",
       "      <th>date2.0</th>\n",
       "      <th>Month</th>\n",
       "      <th>Day</th>\n",
       "    </tr>\n",
       "    <tr>\n",
       "      <th>Year</th>\n",
       "      <th></th>\n",
       "      <th></th>\n",
       "      <th></th>\n",
       "      <th></th>\n",
       "      <th></th>\n",
       "      <th></th>\n",
       "      <th></th>\n",
       "    </tr>\n",
       "  </thead>\n",
       "  <tbody>\n",
       "    <tr>\n",
       "      <th>2010.0</th>\n",
       "      <td>47024</td>\n",
       "      <td>47024</td>\n",
       "      <td>47024</td>\n",
       "      <td>47024</td>\n",
       "      <td>47024</td>\n",
       "      <td>47024</td>\n",
       "      <td>47024</td>\n",
       "    </tr>\n",
       "    <tr>\n",
       "      <th>2011.0</th>\n",
       "      <td>213274</td>\n",
       "      <td>213274</td>\n",
       "      <td>213274</td>\n",
       "      <td>213274</td>\n",
       "      <td>213274</td>\n",
       "      <td>213274</td>\n",
       "      <td>213274</td>\n",
       "    </tr>\n",
       "    <tr>\n",
       "      <th>2012.0</th>\n",
       "      <td>282346</td>\n",
       "      <td>282346</td>\n",
       "      <td>282346</td>\n",
       "      <td>282346</td>\n",
       "      <td>282346</td>\n",
       "      <td>282346</td>\n",
       "      <td>282346</td>\n",
       "    </tr>\n",
       "    <tr>\n",
       "      <th>2013.0</th>\n",
       "      <td>333793</td>\n",
       "      <td>333793</td>\n",
       "      <td>333793</td>\n",
       "      <td>333793</td>\n",
       "      <td>333793</td>\n",
       "      <td>333793</td>\n",
       "      <td>333793</td>\n",
       "    </tr>\n",
       "    <tr>\n",
       "      <th>2014.0</th>\n",
       "      <td>345027</td>\n",
       "      <td>345027</td>\n",
       "      <td>345027</td>\n",
       "      <td>345027</td>\n",
       "      <td>345027</td>\n",
       "      <td>345027</td>\n",
       "      <td>345027</td>\n",
       "    </tr>\n",
       "    <tr>\n",
       "      <th>2015.0</th>\n",
       "      <td>315325</td>\n",
       "      <td>315325</td>\n",
       "      <td>315325</td>\n",
       "      <td>315325</td>\n",
       "      <td>315325</td>\n",
       "      <td>315325</td>\n",
       "      <td>315325</td>\n",
       "    </tr>\n",
       "    <tr>\n",
       "      <th>2016.0</th>\n",
       "      <td>275605</td>\n",
       "      <td>275605</td>\n",
       "      <td>275605</td>\n",
       "      <td>275605</td>\n",
       "      <td>275605</td>\n",
       "      <td>275605</td>\n",
       "      <td>275605</td>\n",
       "    </tr>\n",
       "    <tr>\n",
       "      <th>2017.0</th>\n",
       "      <td>239295</td>\n",
       "      <td>239295</td>\n",
       "      <td>239295</td>\n",
       "      <td>239295</td>\n",
       "      <td>239295</td>\n",
       "      <td>239295</td>\n",
       "      <td>239295</td>\n",
       "    </tr>\n",
       "    <tr>\n",
       "      <th>2018.0</th>\n",
       "      <td>206156</td>\n",
       "      <td>206156</td>\n",
       "      <td>206156</td>\n",
       "      <td>206156</td>\n",
       "      <td>206156</td>\n",
       "      <td>206156</td>\n",
       "      <td>206156</td>\n",
       "    </tr>\n",
       "    <tr>\n",
       "      <th>2019.0</th>\n",
       "      <td>172033</td>\n",
       "      <td>172033</td>\n",
       "      <td>172033</td>\n",
       "      <td>172033</td>\n",
       "      <td>172033</td>\n",
       "      <td>172033</td>\n",
       "      <td>172033</td>\n",
       "    </tr>\n",
       "  </tbody>\n",
       "</table>\n",
       "</div>"
      ],
      "text/plain": [
       "        business_id    name    city   state  date2.0   Month     Day\n",
       "Year                                                                \n",
       "2010.0        47024   47024   47024   47024    47024   47024   47024\n",
       "2011.0       213274  213274  213274  213274   213274  213274  213274\n",
       "2012.0       282346  282346  282346  282346   282346  282346  282346\n",
       "2013.0       333793  333793  333793  333793   333793  333793  333793\n",
       "2014.0       345027  345027  345027  345027   345027  345027  345027\n",
       "2015.0       315325  315325  315325  315325   315325  315325  315325\n",
       "2016.0       275605  275605  275605  275605   275605  275605  275605\n",
       "2017.0       239295  239295  239295  239295   239295  239295  239295\n",
       "2018.0       206156  206156  206156  206156   206156  206156  206156\n",
       "2019.0       172033  172033  172033  172033   172033  172033  172033"
      ]
     },
     "execution_count": 24,
     "metadata": {},
     "output_type": "execute_result"
    }
   ],
   "source": [
    "phx_checkins_years = phx_checkins.groupby('Year').count()\n",
    "phx_checkins_years"
   ]
  },
  {
   "cell_type": "code",
   "execution_count": 25,
   "metadata": {},
   "outputs": [
    {
     "data": {
      "text/html": [
       "<div>\n",
       "<style scoped>\n",
       "    .dataframe tbody tr th:only-of-type {\n",
       "        vertical-align: middle;\n",
       "    }\n",
       "\n",
       "    .dataframe tbody tr th {\n",
       "        vertical-align: top;\n",
       "    }\n",
       "\n",
       "    .dataframe thead th {\n",
       "        text-align: right;\n",
       "    }\n",
       "</style>\n",
       "<table border=\"1\" class=\"dataframe\">\n",
       "  <thead>\n",
       "    <tr style=\"text-align: right;\">\n",
       "      <th></th>\n",
       "      <th>business_id</th>\n",
       "      <th>name</th>\n",
       "      <th>city</th>\n",
       "      <th>state</th>\n",
       "      <th>date2.0</th>\n",
       "      <th>Month</th>\n",
       "      <th>Day</th>\n",
       "      <th>Year</th>\n",
       "    </tr>\n",
       "  </thead>\n",
       "  <tbody>\n",
       "    <tr>\n",
       "      <th>43</th>\n",
       "      <td>vjTVxnsQEZ34XjYNS-XUpA</td>\n",
       "      <td>Wetzel's Pretzels</td>\n",
       "      <td>Phoenix</td>\n",
       "      <td>AZ</td>\n",
       "      <td>2019-06-15</td>\n",
       "      <td>6.0</td>\n",
       "      <td>15.0</td>\n",
       "      <td>2019.0</td>\n",
       "    </tr>\n",
       "    <tr>\n",
       "      <th>44</th>\n",
       "      <td>vjTVxnsQEZ34XjYNS-XUpA</td>\n",
       "      <td>Wetzel's Pretzels</td>\n",
       "      <td>Phoenix</td>\n",
       "      <td>AZ</td>\n",
       "      <td>2019-10-26</td>\n",
       "      <td>10.0</td>\n",
       "      <td>26.0</td>\n",
       "      <td>2019.0</td>\n",
       "    </tr>\n",
       "    <tr>\n",
       "      <th>48</th>\n",
       "      <td>kHCTmEekJJwYsJEy7xYM5w</td>\n",
       "      <td>Banner - University Family Medicine Center</td>\n",
       "      <td>Phoenix</td>\n",
       "      <td>AZ</td>\n",
       "      <td>2019-10-24</td>\n",
       "      <td>10.0</td>\n",
       "      <td>24.0</td>\n",
       "      <td>2019.0</td>\n",
       "    </tr>\n",
       "    <tr>\n",
       "      <th>123</th>\n",
       "      <td>Mmd5WDFq9hHcQ3uClngGjQ</td>\n",
       "      <td>Irene's Tap Room</td>\n",
       "      <td>Phoenix</td>\n",
       "      <td>AZ</td>\n",
       "      <td>2019-01-03</td>\n",
       "      <td>1.0</td>\n",
       "      <td>3.0</td>\n",
       "      <td>2019.0</td>\n",
       "    </tr>\n",
       "    <tr>\n",
       "      <th>124</th>\n",
       "      <td>Mmd5WDFq9hHcQ3uClngGjQ</td>\n",
       "      <td>Irene's Tap Room</td>\n",
       "      <td>Phoenix</td>\n",
       "      <td>AZ</td>\n",
       "      <td>2019-01-06</td>\n",
       "      <td>1.0</td>\n",
       "      <td>6.0</td>\n",
       "      <td>2019.0</td>\n",
       "    </tr>\n",
       "    <tr>\n",
       "      <th>...</th>\n",
       "      <td>...</td>\n",
       "      <td>...</td>\n",
       "      <td>...</td>\n",
       "      <td>...</td>\n",
       "      <td>...</td>\n",
       "      <td>...</td>\n",
       "      <td>...</td>\n",
       "      <td>...</td>\n",
       "    </tr>\n",
       "    <tr>\n",
       "      <th>2433944</th>\n",
       "      <td>YZeUH6zYS0dq5QHLYZhUnQ</td>\n",
       "      <td>Hooters</td>\n",
       "      <td>Phoenix</td>\n",
       "      <td>AZ</td>\n",
       "      <td>2019-05-03</td>\n",
       "      <td>5.0</td>\n",
       "      <td>3.0</td>\n",
       "      <td>2019.0</td>\n",
       "    </tr>\n",
       "    <tr>\n",
       "      <th>2433945</th>\n",
       "      <td>YZeUH6zYS0dq5QHLYZhUnQ</td>\n",
       "      <td>Hooters</td>\n",
       "      <td>Phoenix</td>\n",
       "      <td>AZ</td>\n",
       "      <td>2019-07-29</td>\n",
       "      <td>7.0</td>\n",
       "      <td>29.0</td>\n",
       "      <td>2019.0</td>\n",
       "    </tr>\n",
       "    <tr>\n",
       "      <th>2433946</th>\n",
       "      <td>YZeUH6zYS0dq5QHLYZhUnQ</td>\n",
       "      <td>Hooters</td>\n",
       "      <td>Phoenix</td>\n",
       "      <td>AZ</td>\n",
       "      <td>2019-08-04</td>\n",
       "      <td>8.0</td>\n",
       "      <td>4.0</td>\n",
       "      <td>2019.0</td>\n",
       "    </tr>\n",
       "    <tr>\n",
       "      <th>2433947</th>\n",
       "      <td>YZeUH6zYS0dq5QHLYZhUnQ</td>\n",
       "      <td>Hooters</td>\n",
       "      <td>Phoenix</td>\n",
       "      <td>AZ</td>\n",
       "      <td>2019-08-07</td>\n",
       "      <td>8.0</td>\n",
       "      <td>7.0</td>\n",
       "      <td>2019.0</td>\n",
       "    </tr>\n",
       "    <tr>\n",
       "      <th>2433948</th>\n",
       "      <td>YZeUH6zYS0dq5QHLYZhUnQ</td>\n",
       "      <td>Hooters</td>\n",
       "      <td>Phoenix</td>\n",
       "      <td>AZ</td>\n",
       "      <td>2019-08-17</td>\n",
       "      <td>8.0</td>\n",
       "      <td>17.0</td>\n",
       "      <td>2019.0</td>\n",
       "    </tr>\n",
       "  </tbody>\n",
       "</table>\n",
       "<p>172033 rows × 8 columns</p>\n",
       "</div>"
      ],
      "text/plain": [
       "                    business_id                                        name  \\\n",
       "43       vjTVxnsQEZ34XjYNS-XUpA                           Wetzel's Pretzels   \n",
       "44       vjTVxnsQEZ34XjYNS-XUpA                           Wetzel's Pretzels   \n",
       "48       kHCTmEekJJwYsJEy7xYM5w  Banner - University Family Medicine Center   \n",
       "123      Mmd5WDFq9hHcQ3uClngGjQ                            Irene's Tap Room   \n",
       "124      Mmd5WDFq9hHcQ3uClngGjQ                            Irene's Tap Room   \n",
       "...                         ...                                         ...   \n",
       "2433944  YZeUH6zYS0dq5QHLYZhUnQ                                     Hooters   \n",
       "2433945  YZeUH6zYS0dq5QHLYZhUnQ                                     Hooters   \n",
       "2433946  YZeUH6zYS0dq5QHLYZhUnQ                                     Hooters   \n",
       "2433947  YZeUH6zYS0dq5QHLYZhUnQ                                     Hooters   \n",
       "2433948  YZeUH6zYS0dq5QHLYZhUnQ                                     Hooters   \n",
       "\n",
       "            city state     date2.0  Month   Day    Year  \n",
       "43       Phoenix    AZ  2019-06-15    6.0  15.0  2019.0  \n",
       "44       Phoenix    AZ  2019-10-26   10.0  26.0  2019.0  \n",
       "48       Phoenix    AZ  2019-10-24   10.0  24.0  2019.0  \n",
       "123      Phoenix    AZ  2019-01-03    1.0   3.0  2019.0  \n",
       "124      Phoenix    AZ  2019-01-06    1.0   6.0  2019.0  \n",
       "...          ...   ...         ...    ...   ...     ...  \n",
       "2433944  Phoenix    AZ  2019-05-03    5.0   3.0  2019.0  \n",
       "2433945  Phoenix    AZ  2019-07-29    7.0  29.0  2019.0  \n",
       "2433946  Phoenix    AZ  2019-08-04    8.0   4.0  2019.0  \n",
       "2433947  Phoenix    AZ  2019-08-07    8.0   7.0  2019.0  \n",
       "2433948  Phoenix    AZ  2019-08-17    8.0  17.0  2019.0  \n",
       "\n",
       "[172033 rows x 8 columns]"
      ]
     },
     "execution_count": 25,
     "metadata": {},
     "output_type": "execute_result"
    }
   ],
   "source": [
    "checkins_2019 = phx_checkins.loc[phx_checkins['Year'] == 2019]\n",
    "checkins_2019"
   ]
  },
  {
   "cell_type": "markdown",
   "metadata": {},
   "source": [
    " <center> Now that I have 2019 checkin data, break it down by months for plotting<center>"
   ]
  },
  {
   "cell_type": "code",
   "execution_count": 26,
   "metadata": {},
   "outputs": [],
   "source": [
    "# Get a count of businesses per day\n",
    "# phx_az_biz = businesses.loc[(businesses['city']=='Phoenix') & (businesses['state']=='AZ')]"
   ]
  },
  {
   "cell_type": "code",
   "execution_count": 27,
   "metadata": {},
   "outputs": [
    {
     "data": {
      "text/html": [
       "<div>\n",
       "<style scoped>\n",
       "    .dataframe tbody tr th:only-of-type {\n",
       "        vertical-align: middle;\n",
       "    }\n",
       "\n",
       "    .dataframe tbody tr th {\n",
       "        vertical-align: top;\n",
       "    }\n",
       "\n",
       "    .dataframe thead th {\n",
       "        text-align: right;\n",
       "    }\n",
       "</style>\n",
       "<table border=\"1\" class=\"dataframe\">\n",
       "  <thead>\n",
       "    <tr style=\"text-align: right;\">\n",
       "      <th></th>\n",
       "      <th>name</th>\n",
       "      <th>city</th>\n",
       "      <th>state</th>\n",
       "      <th>date2.0</th>\n",
       "      <th>Month</th>\n",
       "      <th>Day</th>\n",
       "      <th>Year</th>\n",
       "    </tr>\n",
       "    <tr>\n",
       "      <th>business_id</th>\n",
       "      <th></th>\n",
       "      <th></th>\n",
       "      <th></th>\n",
       "      <th></th>\n",
       "      <th></th>\n",
       "      <th></th>\n",
       "      <th></th>\n",
       "    </tr>\n",
       "  </thead>\n",
       "  <tbody>\n",
       "    <tr>\n",
       "      <th>-BxWyEIQ6wypT-37MzZizQ</th>\n",
       "      <td>1</td>\n",
       "      <td>1</td>\n",
       "      <td>1</td>\n",
       "      <td>1</td>\n",
       "      <td>1</td>\n",
       "      <td>1</td>\n",
       "      <td>1</td>\n",
       "    </tr>\n",
       "    <tr>\n",
       "      <th>-Ma5JqzuI_3xIAtpNJfQ2g</th>\n",
       "      <td>1</td>\n",
       "      <td>1</td>\n",
       "      <td>1</td>\n",
       "      <td>1</td>\n",
       "      <td>1</td>\n",
       "      <td>1</td>\n",
       "      <td>1</td>\n",
       "    </tr>\n",
       "    <tr>\n",
       "      <th>-TVXOYL6kvKP1uW6ND9PIg</th>\n",
       "      <td>1</td>\n",
       "      <td>1</td>\n",
       "      <td>1</td>\n",
       "      <td>1</td>\n",
       "      <td>1</td>\n",
       "      <td>1</td>\n",
       "      <td>1</td>\n",
       "    </tr>\n",
       "    <tr>\n",
       "      <th>-ZBfr1BHvArFp1d6XH8jOQ</th>\n",
       "      <td>4</td>\n",
       "      <td>4</td>\n",
       "      <td>4</td>\n",
       "      <td>4</td>\n",
       "      <td>4</td>\n",
       "      <td>4</td>\n",
       "      <td>4</td>\n",
       "    </tr>\n",
       "    <tr>\n",
       "      <th>-bMZCfTK7fxFaURynKpBMA</th>\n",
       "      <td>2</td>\n",
       "      <td>2</td>\n",
       "      <td>2</td>\n",
       "      <td>2</td>\n",
       "      <td>2</td>\n",
       "      <td>2</td>\n",
       "      <td>2</td>\n",
       "    </tr>\n",
       "    <tr>\n",
       "      <th>...</th>\n",
       "      <td>...</td>\n",
       "      <td>...</td>\n",
       "      <td>...</td>\n",
       "      <td>...</td>\n",
       "      <td>...</td>\n",
       "      <td>...</td>\n",
       "      <td>...</td>\n",
       "    </tr>\n",
       "    <tr>\n",
       "      <th>yuU0beBIjiacZVSY0tf4LA</th>\n",
       "      <td>2</td>\n",
       "      <td>2</td>\n",
       "      <td>2</td>\n",
       "      <td>2</td>\n",
       "      <td>2</td>\n",
       "      <td>2</td>\n",
       "      <td>2</td>\n",
       "    </tr>\n",
       "    <tr>\n",
       "      <th>z2wTPbPPkMs633Oq6RwBiA</th>\n",
       "      <td>1</td>\n",
       "      <td>1</td>\n",
       "      <td>1</td>\n",
       "      <td>1</td>\n",
       "      <td>1</td>\n",
       "      <td>1</td>\n",
       "      <td>1</td>\n",
       "    </tr>\n",
       "    <tr>\n",
       "      <th>z6-reuC5BYf_Rth9gMBfgQ</th>\n",
       "      <td>1</td>\n",
       "      <td>1</td>\n",
       "      <td>1</td>\n",
       "      <td>1</td>\n",
       "      <td>1</td>\n",
       "      <td>1</td>\n",
       "      <td>1</td>\n",
       "    </tr>\n",
       "    <tr>\n",
       "      <th>zYZPpOqo_2YrLJLOmjlgPQ</th>\n",
       "      <td>2</td>\n",
       "      <td>2</td>\n",
       "      <td>2</td>\n",
       "      <td>2</td>\n",
       "      <td>2</td>\n",
       "      <td>2</td>\n",
       "      <td>2</td>\n",
       "    </tr>\n",
       "    <tr>\n",
       "      <th>zzwaS0xn1MVEPEf0hNLjew</th>\n",
       "      <td>1</td>\n",
       "      <td>1</td>\n",
       "      <td>1</td>\n",
       "      <td>1</td>\n",
       "      <td>1</td>\n",
       "      <td>1</td>\n",
       "      <td>1</td>\n",
       "    </tr>\n",
       "  </tbody>\n",
       "</table>\n",
       "<p>330 rows × 7 columns</p>\n",
       "</div>"
      ],
      "text/plain": [
       "                        name  city  state  date2.0  Month  Day  Year\n",
       "business_id                                                         \n",
       "-BxWyEIQ6wypT-37MzZizQ     1     1      1        1      1    1     1\n",
       "-Ma5JqzuI_3xIAtpNJfQ2g     1     1      1        1      1    1     1\n",
       "-TVXOYL6kvKP1uW6ND9PIg     1     1      1        1      1    1     1\n",
       "-ZBfr1BHvArFp1d6XH8jOQ     4     4      4        4      4    4     4\n",
       "-bMZCfTK7fxFaURynKpBMA     2     2      2        2      2    2     2\n",
       "...                      ...   ...    ...      ...    ...  ...   ...\n",
       "yuU0beBIjiacZVSY0tf4LA     2     2      2        2      2    2     2\n",
       "z2wTPbPPkMs633Oq6RwBiA     1     1      1        1      1    1     1\n",
       "z6-reuC5BYf_Rth9gMBfgQ     1     1      1        1      1    1     1\n",
       "zYZPpOqo_2YrLJLOmjlgPQ     2     2      2        2      2    2     2\n",
       "zzwaS0xn1MVEPEf0hNLjew     1     1      1        1      1    1     1\n",
       "\n",
       "[330 rows x 7 columns]"
      ]
     },
     "execution_count": 27,
     "metadata": {},
     "output_type": "execute_result"
    }
   ],
   "source": [
    "test = checkins_2019.loc[ (checkins_2019['Day'] == 1) & (checkins_2019['Month'] == 1)]\n",
    "test = test.groupby('business_id').count()\n",
    "# test = test.reset_index()\n",
    "# test = test['business_id'].unique()\n",
    "test"
   ]
  },
  {
   "cell_type": "code",
   "execution_count": 28,
   "metadata": {},
   "outputs": [
    {
     "data": {
      "text/plain": [
       "11666"
      ]
     },
     "execution_count": 28,
     "metadata": {},
     "output_type": "execute_result"
    }
   ],
   "source": [
    "# Doesn't sound like I'll need to leverage the amount of restaraunts that were being check in to, onlt the total per day\n",
    "def rest_per_day_jan(df):\n",
    "    lst = []\n",
    "    a = np.arange(1,32)\n",
    "    for date in a:\n",
    "        total = df.loc[ (df['Day'] == date) & (df['Month'] == 1)]\n",
    "        total = total.groupby('business_id').count()\n",
    "        lst.append(len(total))\n",
    "    return lst\n",
    "\n",
    "sum(rest_per_day_jan(checkins_2019))"
   ]
  },
  {
   "cell_type": "code",
   "execution_count": 29,
   "metadata": {},
   "outputs": [],
   "source": [
    "def create_df(x):\n",
    "    x = x['Day'].sort_values()\n",
    "    x = x.to_frame()\n",
    "    return x"
   ]
  },
  {
   "cell_type": "code",
   "execution_count": 30,
   "metadata": {},
   "outputs": [
    {
     "data": {
      "text/html": [
       "<div>\n",
       "<style scoped>\n",
       "    .dataframe tbody tr th:only-of-type {\n",
       "        vertical-align: middle;\n",
       "    }\n",
       "\n",
       "    .dataframe tbody tr th {\n",
       "        vertical-align: top;\n",
       "    }\n",
       "\n",
       "    .dataframe thead th {\n",
       "        text-align: right;\n",
       "    }\n",
       "</style>\n",
       "<table border=\"1\" class=\"dataframe\">\n",
       "  <thead>\n",
       "    <tr style=\"text-align: right;\">\n",
       "      <th></th>\n",
       "      <th>Day</th>\n",
       "    </tr>\n",
       "  </thead>\n",
       "  <tbody>\n",
       "    <tr>\n",
       "      <th>2182910</th>\n",
       "      <td>1.0</td>\n",
       "    </tr>\n",
       "    <tr>\n",
       "      <th>2356412</th>\n",
       "      <td>1.0</td>\n",
       "    </tr>\n",
       "    <tr>\n",
       "      <th>1308750</th>\n",
       "      <td>1.0</td>\n",
       "    </tr>\n",
       "    <tr>\n",
       "      <th>1308749</th>\n",
       "      <td>1.0</td>\n",
       "    </tr>\n",
       "    <tr>\n",
       "      <th>1308748</th>\n",
       "      <td>1.0</td>\n",
       "    </tr>\n",
       "    <tr>\n",
       "      <th>...</th>\n",
       "      <td>...</td>\n",
       "    </tr>\n",
       "    <tr>\n",
       "      <th>1944903</th>\n",
       "      <td>31.0</td>\n",
       "    </tr>\n",
       "    <tr>\n",
       "      <th>153234</th>\n",
       "      <td>31.0</td>\n",
       "    </tr>\n",
       "    <tr>\n",
       "      <th>1944902</th>\n",
       "      <td>31.0</td>\n",
       "    </tr>\n",
       "    <tr>\n",
       "      <th>1946597</th>\n",
       "      <td>31.0</td>\n",
       "    </tr>\n",
       "    <tr>\n",
       "      <th>39622</th>\n",
       "      <td>31.0</td>\n",
       "    </tr>\n",
       "  </tbody>\n",
       "</table>\n",
       "<p>15999 rows × 1 columns</p>\n",
       "</div>"
      ],
      "text/plain": [
       "          Day\n",
       "2182910   1.0\n",
       "2356412   1.0\n",
       "1308750   1.0\n",
       "1308749   1.0\n",
       "1308748   1.0\n",
       "...       ...\n",
       "1944903  31.0\n",
       "153234   31.0\n",
       "1944902  31.0\n",
       "1946597  31.0\n",
       "39622    31.0\n",
       "\n",
       "[15999 rows x 1 columns]"
      ]
     },
     "execution_count": 30,
     "metadata": {},
     "output_type": "execute_result"
    }
   ],
   "source": [
    "jan_checkins_2019 = checkins_2019[checkins_2019['Month'] == 1]\n",
    "jan_hist = create_df(jan_checkins_2019)\n",
    "jan_hist"
   ]
  },
  {
   "cell_type": "code",
   "execution_count": 31,
   "metadata": {},
   "outputs": [],
   "source": [
    "# Each months data points\n",
    "feb_checkins_2019 = checkins_2019[checkins_2019['Month'] == 2]\n",
    "# feb_hist = create_df(feb_checkins_2019)\n",
    "mar_checkins_2019 = checkins_2019[checkins_2019['Month'] == 3]\n",
    "# mar_hist = create_df(march_checkins_2019)\n",
    "apr_checkins_2019 = checkins_2019[checkins_2019['Month'] == 4]\n",
    "# apr_hist = create_df(april_checkins_2019)\n",
    "may_checkins_2019 = checkins_2019[checkins_2019['Month'] == 5]\n",
    "# may_hist = create_df(may_checkins_2019)\n",
    "jun_checkins_2019 = checkins_2019[checkins_2019['Month'] == 6]\n",
    "# jun_hist = create_df(june_checkins_2019)\n",
    "jul_checkins_2019 = checkins_2019[checkins_2019['Month'] == 7]\n",
    "# jul_hist = create_df(july_checkins_2019)\n",
    "aug_checkins_2019 = checkins_2019[checkins_2019['Month'] == 8]\n",
    "# aug_hist = create_df(august_checkins_2019)\n",
    "sep_checkins_2019 = checkins_2019[checkins_2019['Month'] == 9]\n",
    "# sep_hist = create_df(sept_checkins_2019)\n",
    "oct_checkins_2019 = checkins_2019[checkins_2019['Month'] == 10]\n",
    "# oct_hist = create_df(oct_checkins_2019)\n",
    "nov_checkins_2019 = checkins_2019[checkins_2019['Month'] == 11]\n",
    "# nov_hist = create_df(nov_checkins_2019)\n",
    "dec_checkins_2019 = checkins_2019[checkins_2019['Month'] == 12]\n",
    "# dec_hist = create_df(dec_checkins_2019)"
   ]
  },
  {
   "cell_type": "markdown",
   "metadata": {},
   "source": [
    "### <center> Test out graphing by month <center>"
   ]
  },
  {
   "cell_type": "code",
   "execution_count": 32,
   "metadata": {},
   "outputs": [
    {
     "data": {
      "text/plain": [
       "array([ 1.,  2.,  3.,  4.,  5.,  6.,  7.,  8.,  9., 10., 11., 12., 13.,\n",
       "       14., 15., 16., 17., 18., 19., 20., 21., 22., 23., 24., 25., 26.,\n",
       "       27., 28., 29., 30., 31.])"
      ]
     },
     "execution_count": 32,
     "metadata": {},
     "output_type": "execute_result"
    }
   ],
   "source": [
    "x_ticks = jan_checkins_2019['Day'].unique()\n",
    "x_ticks = np.sort(x_ticks)\n",
    "x_ticks"
   ]
  },
  {
   "cell_type": "code",
   "execution_count": 33,
   "metadata": {},
   "outputs": [
    {
     "data": {
      "image/png": "[encoded data removed]",
      "text/plain": [
       "<Figure size 1152x576 with 1 Axes>"
      ]
     },
     "metadata": {},
     "output_type": "display_data"
    }
   ],
   "source": [
    "fig, ax = plt.subplots(figsize=(16,8), sharex=True, sharey=True)\n",
    "ax.hist(x = jan_checkins_2019['Day'], bins=np.arange(1,32)-1, align='left')\n",
    "#ax.hist(x = jan_checkins_2019['Day'], bins=x_ticks, align='mid')\n",
    "plt.xticks(x_ticks)\n",
    "plt.tight_layout()\n",
    "ax.set_xlabel('Day')\n",
    "ax.set_ylabel('Total Checkins')\n",
    "ax.title.set_text(\"January 2019\")\n",
    "# ax.plot(rest_per_day_jan(checkins_2019),color='r')"
   ]
  },
  {
   "cell_type": "code",
   "execution_count": 34,
   "metadata": {},
   "outputs": [],
   "source": [
    "# GET checkins DF cleaned up"
   ]
  },
  {
   "cell_type": "code",
   "execution_count": 35,
   "metadata": {},
   "outputs": [],
   "source": [
    "# columns to drop\n",
    "drop = ['business_id', 'city', 'state', 'date2.0', 'Month', 'Year']"
   ]
  },
  {
   "cell_type": "code",
   "execution_count": 36,
   "metadata": {},
   "outputs": [],
   "source": [
    "# Rename Columns\n",
    "# df.rename(columns={'current name':'new name'})"
   ]
  },
  {
   "cell_type": "code",
   "execution_count": null,
   "metadata": {},
   "outputs": [],
   "source": []
  },
  {
   "cell_type": "code",
   "execution_count": 37,
   "metadata": {
    "scrolled": true
   },
   "outputs": [],
   "source": [
    "jan = jan_checkins_2019.groupby('Day').count()\n",
    "jan = jan.reset_index()\n",
    "jan = jan.drop(drop, axis=1)\n",
    "cjan = jan['name'].mean()"
   ]
  },
  {
   "cell_type": "code",
   "execution_count": 38,
   "metadata": {},
   "outputs": [],
   "source": [
    "# jan.hist(bins=31)\n",
    "# plt.title('Frequency of checkins January')\n",
    "# plt.ylabel('Frequency')\n",
    "# plt.xlabel('Total Checkins')\n",
    "# plt.tight_layout()"
   ]
  },
  {
   "cell_type": "code",
   "execution_count": 39,
   "metadata": {
    "scrolled": true
   },
   "outputs": [],
   "source": [
    "feb = feb_checkins_2019.groupby('Day').count()\n",
    "feb = feb.reset_index()\n",
    "feb = feb.drop(drop, axis=1)\n",
    "cfeb = feb['name'].mean()"
   ]
  },
  {
   "cell_type": "code",
   "execution_count": 40,
   "metadata": {},
   "outputs": [],
   "source": [
    "# feb.hist(bins=28)\n",
    "# plt.title('Frequency of checkins February')\n",
    "# plt.ylabel('Frequency')\n",
    "# plt.xlabel('Total Checkins')\n",
    "# plt.tight_layout()"
   ]
  },
  {
   "cell_type": "code",
   "execution_count": 41,
   "metadata": {
    "scrolled": true
   },
   "outputs": [],
   "source": [
    "mar = mar_checkins_2019.groupby('Day').count()\n",
    "mar = mar.reset_index()\n",
    "mar = mar.drop(drop, axis=1)\n",
    "cmar = mar['name'].mean()"
   ]
  },
  {
   "cell_type": "code",
   "execution_count": 42,
   "metadata": {},
   "outputs": [],
   "source": [
    "# mar.hist(bins=31)\n",
    "# plt.title('Frequency of checkins March')\n",
    "# plt.ylabel('Frequency')\n",
    "# plt.xlabel('Total Checkins')\n",
    "# plt.tight_layout()"
   ]
  },
  {
   "cell_type": "code",
   "execution_count": 43,
   "metadata": {
    "scrolled": true
   },
   "outputs": [],
   "source": [
    "apr = apr_checkins_2019.groupby('Day').count()\n",
    "apr = apr.reset_index()\n",
    "apr = apr.drop(drop, axis=1)\n",
    "capr = apr['name'].mean()"
   ]
  },
  {
   "cell_type": "code",
   "execution_count": 44,
   "metadata": {},
   "outputs": [],
   "source": [
    "# apr.hist(bins=30)\n",
    "# plt.title('Frequency of checkins April')\n",
    "# plt.ylabel('Frequency')\n",
    "# plt.xlabel('Total Checkins')\n",
    "# plt.tight_layout()"
   ]
  },
  {
   "cell_type": "code",
   "execution_count": 45,
   "metadata": {
    "scrolled": true
   },
   "outputs": [],
   "source": [
    "may = may_checkins_2019.groupby('Day').count()\n",
    "may = may.reset_index()\n",
    "may = may.drop(drop, axis=1)\n",
    "cmay = may['name'].mean()"
   ]
  },
  {
   "cell_type": "code",
   "execution_count": 46,
   "metadata": {},
   "outputs": [],
   "source": [
    "# may.hist(bins=31)\n",
    "# plt.title('Frequency of checkins May')\n",
    "# plt.ylabel('Frequency')\n",
    "# plt.xlabel('Total Checkins')\n",
    "# plt.tight_layout()"
   ]
  },
  {
   "cell_type": "code",
   "execution_count": 47,
   "metadata": {
    "scrolled": true
   },
   "outputs": [],
   "source": [
    "jun = jun_checkins_2019.groupby('Day').count()\n",
    "jun = jun.reset_index()\n",
    "jun = jun.drop(drop, axis=1)\n",
    "cjun = jun['name'].mean()"
   ]
  },
  {
   "cell_type": "code",
   "execution_count": 48,
   "metadata": {
    "scrolled": true
   },
   "outputs": [],
   "source": [
    "# jun.hist(bins=30)\n",
    "# plt.title('Frequency of checkins June')\n",
    "# plt.ylabel('Frequency')\n",
    "# plt.xlabel('Total Checkins')\n",
    "# plt.tight_layout()"
   ]
  },
  {
   "cell_type": "code",
   "execution_count": 49,
   "metadata": {},
   "outputs": [],
   "source": [
    "jul = jul_checkins_2019.groupby('Day').count()\n",
    "jul = jul.reset_index()\n",
    "jul = jul.drop(drop, axis=1)\n",
    "cjul = jul['name'].mean()"
   ]
  },
  {
   "cell_type": "code",
   "execution_count": 50,
   "metadata": {},
   "outputs": [],
   "source": [
    "aug = aug_checkins_2019.groupby('Day').count()\n",
    "aug = aug.reset_index()\n",
    "aug = aug.drop(drop, axis=1)\n",
    "caug = aug['name'].mean()"
   ]
  },
  {
   "cell_type": "code",
   "execution_count": 51,
   "metadata": {},
   "outputs": [],
   "source": [
    "sep = sep_checkins_2019.groupby('Day').count()\n",
    "sep = sep.reset_index()\n",
    "sep = sep.drop(drop, axis=1)\n",
    "csep = sep['name'].mean()"
   ]
  },
  {
   "cell_type": "code",
   "execution_count": 52,
   "metadata": {},
   "outputs": [],
   "source": [
    "_oct = oct_checkins_2019.groupby('Day').count()\n",
    "_oct = _oct.reset_index()\n",
    "_oct = _oct.drop(drop, axis=1)\n",
    "coct = _oct['name'].mean()"
   ]
  },
  {
   "cell_type": "code",
   "execution_count": 53,
   "metadata": {},
   "outputs": [],
   "source": [
    "nov = nov_checkins_2019.groupby('Day').count()\n",
    "nov = nov.reset_index()\n",
    "nov = nov.drop(drop, axis=1)\n",
    "cnov = nov['name'].mean()"
   ]
  },
  {
   "cell_type": "code",
   "execution_count": 54,
   "metadata": {},
   "outputs": [],
   "source": [
    "dec = dec_checkins_2019.groupby('Day').count()\n",
    "dec = dec.reset_index()\n",
    "dec = dec.drop(drop, axis=1)\n",
    "cdec = dec['name'].mean()"
   ]
  },
  {
   "cell_type": "code",
   "execution_count": 55,
   "metadata": {},
   "outputs": [],
   "source": [
    "# Monthly weather data imports\n",
    "jan2 = pd.read_csv('/Users/Lisa/capstone_1/data/jan.csv')\n",
    "feb2 = pd.read_csv('/Users/Lisa/capstone_1/data/feb.csv')\n",
    "mar2 = pd.read_csv('/Users/Lisa/capstone_1/data/mar.csv')\n",
    "apr2 = pd.read_csv('/Users/Lisa/capstone_1/data/apr.csv')\n",
    "may2 = pd.read_csv('/Users/Lisa/capstone_1/data/may.csv')\n",
    "jun2 = pd.read_csv('/Users/Lisa/capstone_1/data/jun.csv')\n",
    "jul2 = pd.read_csv('/Users/Lisa/capstone_1/data/jul.csv')\n",
    "aug2 = pd.read_csv('/Users/Lisa/capstone_1/data/aug.csv')\n",
    "sep2 = pd.read_csv('/Users/Lisa/capstone_1/data/sep.csv')\n",
    "_oct2 = pd.read_csv('/Users/Lisa/capstone_1/data/oct.csv')\n",
    "nov2 = pd.read_csv('/Users/Lisa/capstone_1/data/nov.csv')\n",
    "dec2 = pd.read_csv('/Users/Lisa/capstone_1/data/dec.csv')"
   ]
  },
  {
   "cell_type": "code",
   "execution_count": 56,
   "metadata": {},
   "outputs": [],
   "source": [
    "# Merge dataframes"
   ]
  },
  {
   "cell_type": "code",
   "execution_count": 57,
   "metadata": {},
   "outputs": [],
   "source": [
    "# jan = jan.merge(jan2, how='left', on='Day')\n",
    "# jan.drop(drop, axis=1)"
   ]
  },
  {
   "cell_type": "markdown",
   "metadata": {},
   "source": [
    "### <center> Monthly Weather Data <center>"
   ]
  },
  {
   "cell_type": "code",
   "execution_count": 58,
   "metadata": {
    "scrolled": false
   },
   "outputs": [],
   "source": [
    "jan_with_data = jan.merge(jan2, how='left', on='Day')\n",
    "jan_with_data = jan_with_data.drop(\"Unnamed: 0\", axis=1)\n",
    "wjan = jan_with_data['Indicator'].mean()"
   ]
  },
  {
   "cell_type": "code",
   "execution_count": 59,
   "metadata": {},
   "outputs": [],
   "source": [
    "feb_with_data = feb.merge(feb2, how='left', on='Day')\n",
    "feb_with_data = feb_with_data.drop(\"Unnamed: 0\", axis=1)\n",
    "wfeb = feb_with_data['Indicator'].mean()\n",
    "# feb_with_data"
   ]
  },
  {
   "cell_type": "code",
   "execution_count": 60,
   "metadata": {},
   "outputs": [],
   "source": [
    "mar_with_data = mar.merge(mar2, how='left', on='Day')\n",
    "mar_with_data = mar_with_data.drop(\"Unnamed: 0\", axis=1)\n",
    "wmar = mar_with_data['Indicator'].mean()\n",
    "# mar_with_data"
   ]
  },
  {
   "cell_type": "code",
   "execution_count": 61,
   "metadata": {},
   "outputs": [],
   "source": [
    "apr_with_data = apr.merge(apr2, how='left', on='Day')\n",
    "apr_with_data = apr_with_data.drop(\"Unnamed: 0\", axis=1)\n",
    "wapr = apr_with_data['Indicator'].mean()\n",
    "# apr_with_data"
   ]
  },
  {
   "cell_type": "code",
   "execution_count": 62,
   "metadata": {},
   "outputs": [],
   "source": [
    "may_with_data = may.merge(may2, how='left', on='Day')\n",
    "may_with_data = may_with_data.drop(\"Unnamed: 0\", axis=1)\n",
    "wmay = may_with_data['Indicator'].mean()\n",
    "# may_with_data"
   ]
  },
  {
   "cell_type": "code",
   "execution_count": 63,
   "metadata": {},
   "outputs": [],
   "source": [
    "jun_with_data = jun.merge(jun2, how='left', on='Day')\n",
    "jun_with_data = jun_with_data.drop(\"Unnamed: 0\", axis=1)\n",
    "wjun = jun_with_data['Indicator'].mean()\n",
    "# jun_with_data"
   ]
  },
  {
   "cell_type": "code",
   "execution_count": 64,
   "metadata": {},
   "outputs": [],
   "source": [
    "jul_with_data = jul.merge(jul2, how='left', on='Day')\n",
    "jul_with_data = jul_with_data.drop(\"Unnamed: 0\", axis=1)\n",
    "wjul = jul_with_data['Indicator'].mean()"
   ]
  },
  {
   "cell_type": "code",
   "execution_count": 65,
   "metadata": {},
   "outputs": [],
   "source": [
    "aug_with_data = aug.merge(aug2, how='left', on='Day')\n",
    "aug_with_data = aug_with_data.drop(\"Unnamed: 0\", axis=1)\n",
    "waug = aug_with_data['Indicator'].mean()"
   ]
  },
  {
   "cell_type": "code",
   "execution_count": 66,
   "metadata": {},
   "outputs": [],
   "source": [
    "sep_with_data = sep.merge(sep2, how='left', on='Day')\n",
    "sep_with_data = sep_with_data.drop(\"Unnamed: 0\", axis=1)\n",
    "wsep = sep_with_data['Indicator'].mean()"
   ]
  },
  {
   "cell_type": "code",
   "execution_count": 67,
   "metadata": {},
   "outputs": [],
   "source": [
    "oct_with_data = _oct.merge(_oct2, how='left', on='Day')\n",
    "oct_with_data = oct_with_data.drop(\"Unnamed: 0\", axis=1)\n",
    "woct = oct_with_data['Indicator'].mean()"
   ]
  },
  {
   "cell_type": "code",
   "execution_count": 68,
   "metadata": {},
   "outputs": [],
   "source": [
    "nov_with_data = nov.merge(nov2, how='left', on='Day')\n",
    "nov_with_data = nov_with_data.drop(\"Unnamed: 0\", axis=1)\n",
    "wnov = nov_with_data['Indicator'].mean()"
   ]
  },
  {
   "cell_type": "code",
   "execution_count": 69,
   "metadata": {},
   "outputs": [],
   "source": [
    "dec_with_data = dec.merge(dec2, how='left', on='Day')\n",
    "dec_with_data = dec_with_data.drop(\"Unnamed: 0\", axis=1)\n",
    "wdec = dec_with_data['Indicator'].mean()"
   ]
  },
  {
   "cell_type": "code",
   "execution_count": null,
   "metadata": {},
   "outputs": [],
   "source": []
  },
  {
   "cell_type": "code",
   "execution_count": 70,
   "metadata": {},
   "outputs": [],
   "source": [
    "# stats.ttest_1samp(jan_with_data)"
   ]
  },
  {
   "cell_type": "markdown",
   "metadata": {},
   "source": [
    "### <center> Statistical Testing <center>"
   ]
  },
  {
   "cell_type": "code",
   "execution_count": 71,
   "metadata": {},
   "outputs": [
    {
     "data": {
      "text/plain": [
       "'\\nbinomial = stats.binom(n=70, p=1/7)\\n\\nfig, ax = plt.subplots(1, figsize=(10, 4))\\nax.bar(range(70), [binomial.pmf(i) for i in range(70)], color=\"grey\")\\nax.set_xlabel(\"Number of posts on a Sunday\")\\nax.set_ylabel(\"Probability\")\\nax.set_title(\"Distribution under null hypothesis\")\\n    ax.axvline(x=binomial.ppf(.95)+.5)\\nbars = ax.bar(range(16,30), [binomial.pmf(i) for i in range(16,30)], color=\"red\")\\nax.legend((\"fail reject H0\", \"reject H0\"))\\n'"
      ]
     },
     "execution_count": 71,
     "metadata": {},
     "output_type": "execute_result"
    }
   ],
   "source": [
    "# Example from Lecture\n",
    "'''\n",
    "binomial = stats.binom(n=70, p=1/7)\n",
    "\n",
    "fig, ax = plt.subplots(1, figsize=(10, 4))\n",
    "ax.bar(range(70), [binomial.pmf(i) for i in range(70)], color=\"grey\")\n",
    "ax.set_xlabel(\"Number of posts on a Sunday\")\n",
    "ax.set_ylabel(\"Probability\")\n",
    "ax.set_title(\"Distribution under null hypothesis\")\n",
    "    ax.axvline(x=binomial.ppf(.95)+.5)\n",
    "bars = ax.bar(range(16,30), [binomial.pmf(i) for i in range(16,30)], color=\"red\")\n",
    "ax.legend((\"fail reject H0\", \"reject H0\"))\n",
    "'''"
   ]
  },
  {
   "cell_type": "code",
   "execution_count": 72,
   "metadata": {},
   "outputs": [
    {
     "data": {
      "text/plain": [
       "'\\nprob_equal_or_more_extreme = 1 - binomial.cdf(day_dict[\"Sunday\"]-1)\\nprint(\"Probability of Observing Data More Equal or More Extreme than Actual: {:2.2}\".format(\\nprob_equal_or_more_extreme)\\n)\\n'"
      ]
     },
     "execution_count": 72,
     "metadata": {},
     "output_type": "execute_result"
    }
   ],
   "source": [
    "# Lecture P-value\n",
    "'''\n",
    "prob_equal_or_more_extreme = 1 - binomial.cdf(day_dict[\"Sunday\"]-1)\n",
    "print(\"Probability of Observing Data More Equal or More Extreme than Actual: {:2.2}\".format(\n",
    "prob_equal_or_more_extreme)\n",
    ")\n",
    "'''"
   ]
  },
  {
   "cell_type": "code",
   "execution_count": 73,
   "metadata": {},
   "outputs": [],
   "source": [
    "# Establish Critical Value\n",
    "a = .05"
   ]
  },
  {
   "cell_type": "code",
   "execution_count": null,
   "metadata": {},
   "outputs": [],
   "source": []
  }
 ],
 "metadata": {
  "kernelspec": {
   "display_name": "Python 3",
   "language": "python",
   "name": "python3"
  },
  "language_info": {
   "codemirror_mode": {
    "name": "ipython",
    "version": 3
   },
   "file_extension": ".py",
   "mimetype": "text/x-python",
   "name": "python",
   "nbconvert_exporter": "python",
   "pygments_lexer": "ipython3",
   "version": "3.7.7"
  }
 },
 "nbformat": 4,
 "nbformat_minor": 4
}
